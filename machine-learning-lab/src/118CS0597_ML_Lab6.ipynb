{
 "cells": [
  {
   "cell_type": "code",
   "execution_count": 1,
   "metadata": {},
   "outputs": [],
   "source": [
    "# imports\n",
    "from pathlib import Path\n",
    "import pandas as pd\n",
    "import numpy as np\n",
    "from tqdm import tqdm\n",
    "from sklearn.model_selection import train_test_split\n",
    "from collections import Counter\n",
    "import copy"
   ]
  },
  {
   "cell_type": "code",
   "execution_count": 2,
   "metadata": {},
   "outputs": [],
   "source": [
    "class Config:\n",
    "    machine_data_path = Path('./machine.csv')\n",
    "    titanic_data_path = Path('./Titanic.csv')"
   ]
  },
  {
   "cell_type": "code",
   "execution_count": 3,
   "metadata": {},
   "outputs": [],
   "source": [
    "class HelperFunctions:\n",
    "    @staticmethod\n",
    "    def mean(x):\n",
    "        n = x.shape[0]\n",
    "        return x.sum() / n\n",
    "    \n",
    "    @staticmethod\n",
    "    def std(x):\n",
    "        n = x.shape[0]\n",
    "        x_mean = HelperFunctions.mean(x)\n",
    "        return np.sqrt(1/n*(((x-x_mean)**2).sum()))\n",
    "    \n",
    "    @staticmethod\n",
    "    def covariance(x, y):\n",
    "        n = x.shape[0]\n",
    "        xy_mean = np.multiply(x, y).sum() / n\n",
    "        x_mean = HelperFunctions.mean(x)\n",
    "        y_mean = HelperFunctions.mean(y)\n",
    "        return xy_mean - x_mean*y_mean\n",
    "    \n",
    "    @staticmethod\n",
    "    def correlation(x, y):\n",
    "        corr = 0\n",
    "        corr += HelperFunctions.covariance(x, y) \n",
    "        corr /= HelperFunctions.std(x)\n",
    "        corr /= HelperFunctions.std(y)\n",
    "        return corr\n",
    "    \n",
    "    @staticmethod\n",
    "    def correlation_matrix(x):\n",
    "        n = x.shape[1]\n",
    "        cm = [[0 for i in range(n)] for i in range(n)]\n",
    "        for i in range(n):\n",
    "            for j in range(n):\n",
    "                cm[i][j] = HelperFunctions.correlation(x[:, i], x[:, j]) \n",
    "        return cm\n",
    "    \n",
    "    @staticmethod\n",
    "    def conv_sum(x, y):\n",
    "        return (x*y).sum(axis=1)"
   ]
  },
  {
   "cell_type": "markdown",
   "metadata": {},
   "source": [
    "# Problem 1"
   ]
  },
  {
   "cell_type": "code",
   "execution_count": 4,
   "metadata": {},
   "outputs": [],
   "source": [
    "class MultipleLinearRegression:\n",
    "    def __init__(self, X, y, lr=1e-3, iterations=1000):\n",
    "        self.X = X\n",
    "        self.y = y\n",
    "        self.feat_cnt = X.shape[1]\n",
    "        self.theta = np.random.randn(1, self.feat_cnt+1)\n",
    "        self.lr = lr\n",
    "        self.iterations = iterations\n",
    "        self.normalize()\n",
    "        \n",
    "    def normalize(self):\n",
    "        min_x = np.min(self.X, axis=1).reshape(self.X.shape[0], 1)\n",
    "        max_x = np.max(self.X, axis=1).reshape(self.X.shape[0], 1)\n",
    "        self.X = (self.X - min_x) / (max_x - min_x)\n",
    "        \n",
    "    def predict(self, inp):\n",
    "        inp = np.hstack((np.ones((inp.shape[0], 1)), inp))\n",
    "        return HelperFunctions.conv_sum(self.theta, inp)\n",
    "    \n",
    "    def normalize_predict(self, inp):\n",
    "        mn = np.min(inp, axis=1).reshape(inp.shape[0], 1)\n",
    "        mx = np.max(inp, axis=1).reshape(inp.shape[0], 1)\n",
    "        inp = (inp-mn) / (mx-mn)\n",
    "        return self.predict(inp)\n",
    "        \n",
    "    def sgd(self):\n",
    "        itr = tqdm(range(self.iterations))\n",
    "        for _ in itr:\n",
    "            for idx, feat in enumerate(self.X):\n",
    "                feat = np.expand_dims(feat, axis=0)\n",
    "                error = self.predict(feat) - self.y[idx]\n",
    "                grad = np.matmul(error,\n",
    "                                np.hstack((np.ones((1, 1)), feat)))\n",
    "                self.theta = self.theta - grad*self.lr\n",
    "            itr.set_description(f'Error: {error}')"
   ]
  },
  {
   "cell_type": "code",
   "execution_count": 5,
   "metadata": {},
   "outputs": [
    {
     "data": {
      "text/html": [
       "<div>\n",
       "<style scoped>\n",
       "    .dataframe tbody tr th:only-of-type {\n",
       "        vertical-align: middle;\n",
       "    }\n",
       "\n",
       "    .dataframe tbody tr th {\n",
       "        vertical-align: top;\n",
       "    }\n",
       "\n",
       "    .dataframe thead th {\n",
       "        text-align: right;\n",
       "    }\n",
       "</style>\n",
       "<table border=\"1\" class=\"dataframe\">\n",
       "  <thead>\n",
       "    <tr style=\"text-align: right;\">\n",
       "      <th></th>\n",
       "      <th>vendor name</th>\n",
       "      <th>Model Name</th>\n",
       "      <th>MYCT</th>\n",
       "      <th>MMIN</th>\n",
       "      <th>MMAX</th>\n",
       "      <th>CACH</th>\n",
       "      <th>CHMIN</th>\n",
       "      <th>CHMAX</th>\n",
       "      <th>PRP</th>\n",
       "    </tr>\n",
       "  </thead>\n",
       "  <tbody>\n",
       "    <tr>\n",
       "      <th>0</th>\n",
       "      <td>adviser</td>\n",
       "      <td>32/60</td>\n",
       "      <td>125</td>\n",
       "      <td>256</td>\n",
       "      <td>6000</td>\n",
       "      <td>256</td>\n",
       "      <td>16</td>\n",
       "      <td>128</td>\n",
       "      <td>198</td>\n",
       "    </tr>\n",
       "    <tr>\n",
       "      <th>1</th>\n",
       "      <td>amdahl</td>\n",
       "      <td>470v/7</td>\n",
       "      <td>29</td>\n",
       "      <td>8000</td>\n",
       "      <td>32000</td>\n",
       "      <td>32</td>\n",
       "      <td>8</td>\n",
       "      <td>32</td>\n",
       "      <td>269</td>\n",
       "    </tr>\n",
       "    <tr>\n",
       "      <th>2</th>\n",
       "      <td>amdahl</td>\n",
       "      <td>470v/7a</td>\n",
       "      <td>29</td>\n",
       "      <td>8000</td>\n",
       "      <td>32000</td>\n",
       "      <td>32</td>\n",
       "      <td>8</td>\n",
       "      <td>32</td>\n",
       "      <td>220</td>\n",
       "    </tr>\n",
       "    <tr>\n",
       "      <th>3</th>\n",
       "      <td>amdahl</td>\n",
       "      <td>470v/7b</td>\n",
       "      <td>29</td>\n",
       "      <td>8000</td>\n",
       "      <td>32000</td>\n",
       "      <td>32</td>\n",
       "      <td>8</td>\n",
       "      <td>32</td>\n",
       "      <td>172</td>\n",
       "    </tr>\n",
       "    <tr>\n",
       "      <th>4</th>\n",
       "      <td>amdahl</td>\n",
       "      <td>470v/7c</td>\n",
       "      <td>29</td>\n",
       "      <td>8000</td>\n",
       "      <td>16000</td>\n",
       "      <td>32</td>\n",
       "      <td>8</td>\n",
       "      <td>16</td>\n",
       "      <td>132</td>\n",
       "    </tr>\n",
       "  </tbody>\n",
       "</table>\n",
       "</div>"
      ],
      "text/plain": [
       "  vendor name Model Name  MYCT  MMIN   MMAX  CACH  CHMIN  CHMAX  PRP\n",
       "0     adviser      32/60   125   256   6000   256     16    128  198\n",
       "1      amdahl     470v/7    29  8000  32000    32      8     32  269\n",
       "2      amdahl    470v/7a    29  8000  32000    32      8     32  220\n",
       "3      amdahl    470v/7b    29  8000  32000    32      8     32  172\n",
       "4      amdahl    470v/7c    29  8000  16000    32      8     16  132"
      ]
     },
     "execution_count": 5,
     "metadata": {},
     "output_type": "execute_result"
    }
   ],
   "source": [
    "machine_df = pd.read_csv(Config.machine_data_path)\n",
    "machine_df.head()"
   ]
  },
  {
   "cell_type": "code",
   "execution_count": 6,
   "metadata": {},
   "outputs": [],
   "source": [
    "train_df, test_df = train_test_split(machine_df, test_size=0.2, shuffle=True)\n",
    "train_df = train_df.reset_index(drop=True)\n",
    "test_df = test_df.reset_index(drop=True)"
   ]
  },
  {
   "cell_type": "code",
   "execution_count": 7,
   "metadata": {},
   "outputs": [],
   "source": [
    "train_X = train_df.drop(columns=['PRP', \n",
    "                             'vendor name', \n",
    "                             'Model Name', \n",
    "                             'MYCT', \n",
    "                             'CHMIN', \n",
    "                             'CHMAX']).to_numpy()\n",
    "train_y = train_df['PRP'].to_numpy()\n",
    "test_X = test_df.drop(columns=['PRP', \n",
    "                             'vendor name', \n",
    "                             'Model Name', \n",
    "                             'MYCT', \n",
    "                             'CHMIN', \n",
    "                             'CHMAX']).to_numpy()\n",
    "test_y = test_df['PRP'].to_numpy()"
   ]
  },
  {
   "cell_type": "code",
   "execution_count": 8,
   "metadata": {},
   "outputs": [
    {
     "name": "stderr",
     "output_type": "stream",
     "text": [
      "Error: [30.42059547]: 100%|█████████████████████████████████████████████| 200/200 [00:02<00:00, 93.71it/s]\n"
     ]
    }
   ],
   "source": [
    "mlr = MultipleLinearRegression(train_X, train_y, lr=1e-3, iterations=200)\n",
    "mlr.sgd()"
   ]
  },
  {
   "cell_type": "code",
   "execution_count": 9,
   "metadata": {},
   "outputs": [],
   "source": [
    "preds = mlr.normalize_predict(test_X)"
   ]
  },
  {
   "cell_type": "code",
   "execution_count": 10,
   "metadata": {},
   "outputs": [],
   "source": [
    "def ftest(pred, targ, p):\n",
    "    targ_mean = targ.mean(axis=0)\n",
    "    n = pred.shape[0]\n",
    "    \n",
    "    msm = (pred-targ_mean).sum() / (p-1)\n",
    "    mse = ((targ-pred)**2).sum() / (n-p)\n",
    "\n",
    "    return msm / mse"
   ]
  },
  {
   "cell_type": "code",
   "execution_count": 11,
   "metadata": {},
   "outputs": [
    {
     "name": "stdout",
     "output_type": "stream",
     "text": [
      "f-test: -0.0069339569321297196\n"
     ]
    }
   ],
   "source": [
    "f_test = ftest(preds, test_y, mlr.feat_cnt+1)\n",
    "print(f'f-test: {f_test}')"
   ]
  },
  {
   "cell_type": "markdown",
   "metadata": {},
   "source": [
    "# Problem 2"
   ]
  },
  {
   "cell_type": "code",
   "execution_count": 12,
   "metadata": {},
   "outputs": [
    {
     "data": {
      "text/html": [
       "<div>\n",
       "<style scoped>\n",
       "    .dataframe tbody tr th:only-of-type {\n",
       "        vertical-align: middle;\n",
       "    }\n",
       "\n",
       "    .dataframe tbody tr th {\n",
       "        vertical-align: top;\n",
       "    }\n",
       "\n",
       "    .dataframe thead th {\n",
       "        text-align: right;\n",
       "    }\n",
       "</style>\n",
       "<table border=\"1\" class=\"dataframe\">\n",
       "  <thead>\n",
       "    <tr style=\"text-align: right;\">\n",
       "      <th></th>\n",
       "      <th>Outlook</th>\n",
       "      <th>Temperature</th>\n",
       "      <th>Humidity</th>\n",
       "      <th>Wind</th>\n",
       "      <th>PlayTennis</th>\n",
       "    </tr>\n",
       "  </thead>\n",
       "  <tbody>\n",
       "    <tr>\n",
       "      <th>0</th>\n",
       "      <td>Sunny</td>\n",
       "      <td>Hot</td>\n",
       "      <td>High</td>\n",
       "      <td>Weak</td>\n",
       "      <td>No</td>\n",
       "    </tr>\n",
       "    <tr>\n",
       "      <th>1</th>\n",
       "      <td>Sunny</td>\n",
       "      <td>Hot</td>\n",
       "      <td>High</td>\n",
       "      <td>Strong</td>\n",
       "      <td>No</td>\n",
       "    </tr>\n",
       "    <tr>\n",
       "      <th>2</th>\n",
       "      <td>Overcast</td>\n",
       "      <td>Hot</td>\n",
       "      <td>High</td>\n",
       "      <td>Weak</td>\n",
       "      <td>Yes</td>\n",
       "    </tr>\n",
       "    <tr>\n",
       "      <th>3</th>\n",
       "      <td>Rain</td>\n",
       "      <td>Mild</td>\n",
       "      <td>High</td>\n",
       "      <td>Weak</td>\n",
       "      <td>Yes</td>\n",
       "    </tr>\n",
       "    <tr>\n",
       "      <th>4</th>\n",
       "      <td>Rain</td>\n",
       "      <td>Cool</td>\n",
       "      <td>Normal</td>\n",
       "      <td>Weak</td>\n",
       "      <td>Yes</td>\n",
       "    </tr>\n",
       "  </tbody>\n",
       "</table>\n",
       "</div>"
      ],
      "text/plain": [
       "    Outlook Temperature Humidity    Wind PlayTennis\n",
       "0     Sunny         Hot     High    Weak         No\n",
       "1     Sunny         Hot     High  Strong         No\n",
       "2  Overcast         Hot     High    Weak        Yes\n",
       "3      Rain        Mild     High    Weak        Yes\n",
       "4      Rain        Cool   Normal    Weak        Yes"
      ]
     },
     "execution_count": 12,
     "metadata": {},
     "output_type": "execute_result"
    }
   ],
   "source": [
    "tennis_datadict = {\n",
    "    'Outlook': ['Sunny', 'Sunny', 'Overcast', 'Rain', 'Rain', 'Rain', 'Overcast', 'Sunny', 'Sunny', 'Rain', 'Sunny', 'Overcast', 'Overcast', 'Rain'],\n",
    "    'Temperature': ['Hot', 'Hot', 'Hot', 'Mild', 'Cool', 'Cool', 'Cool', 'Mild', 'Cool', 'Mild', 'Mild', 'Mild', 'Hot', 'Mild'],\n",
    "    'Humidity': ['High', 'High', 'High', 'High', 'Normal', 'Normal', 'Normal', 'High', 'Normal', 'Normal', 'Normal', 'High', 'Normal', 'High'],\n",
    "    'Wind': ['Weak', 'Strong', 'Weak', 'Weak', 'Weak', 'Strong', 'Strong', 'Weak', 'Weak', 'Weak', 'Strong', 'Strong', 'Weak', 'Strong'],\n",
    "    'PlayTennis': ['No', 'No', 'Yes', 'Yes', 'Yes', 'No', 'Yes', 'No', 'Yes', 'Yes', 'Yes', 'Yes', 'Yes', 'No']\n",
    "}\n",
    "\n",
    "tennis_df = pd.DataFrame(tennis_datadict)\n",
    "tennis_df.head()"
   ]
  },
  {
   "cell_type": "code",
   "execution_count": 13,
   "metadata": {},
   "outputs": [],
   "source": [
    "def label_encoding(df):\n",
    "    df_copy = copy.deepcopy(df)\n",
    "    les = dict()\n",
    "    for col in df_copy.columns:\n",
    "        if df_copy.dtypes[col] == 'object':\n",
    "            rng = df_copy[col].unique()\n",
    "            le = dict()\n",
    "            for idx, val in enumerate(rng):\n",
    "                le[val] = idx\n",
    "            df_copy[col] = [le[i] for i in df_copy[col]]\n",
    "            les[col] = le\n",
    "    return df_copy, les"
   ]
  },
  {
   "cell_type": "code",
   "execution_count": 14,
   "metadata": {},
   "outputs": [],
   "source": [
    "class DecisionTree:\n",
    "    def __init__(self, df, targ_column):\n",
    "        self.df = df\n",
    "        self.le = label_encoding(self.df)\n",
    "        self.feat_cnt = len(df.columns) - 1\n",
    "        self.targ_column = targ_column\n",
    "\n",
    "    def eval_entropy(self, d):\n",
    "        cntr = Counter(d)\n",
    "        total = 0\n",
    "        for i in cntr.values():\n",
    "            total += i\n",
    "        entropy = 0\n",
    "        for i in cntr.values():\n",
    "            p = i/total\n",
    "            entropy += (-1*p*np.log2(p))\n",
    "        return entropy\n",
    "    \n",
    "    class DecisionTreeNode:\n",
    "        def __init__(self, curr_column, nxt, leaf_node, pred):\n",
    "            self.curr_column = curr_column\n",
    "            self.nxt = nxt\n",
    "            self.leaf_node = leaf_node\n",
    "            self.pred = pred\n",
    "    \n",
    "    def build(self):\n",
    "        considered = dict()\n",
    "        for i in self.df.columns:\n",
    "            if i != self.targ_column:\n",
    "                considered[i] = False\n",
    "        root = self.dfs(self.df, considered)\n",
    "        return root\n",
    "        \n",
    "    def dfs(self, df, considered):\n",
    "        mx_gain = 0.0\n",
    "        mx_col = None\n",
    "        # entropy of the passed df\n",
    "        s = self.eval_entropy(df[self.targ_column])\n",
    "        cnt = len(df)\n",
    "        for col in df.columns:\n",
    "            if col!=self.targ_column and not considered[col]:\n",
    "                entropy_col = 0\n",
    "                for val in df[col].unique():\n",
    "                    val_df = df[df[col]==val]\n",
    "                    p =  len(val_df) / cnt\n",
    "                    entropy_col += p*self.eval_entropy(val_df[self.targ_column])\n",
    "                # entropy gain\n",
    "                g = s - entropy_col\n",
    "                if g >= mx_gain:\n",
    "                    mx_gain = g\n",
    "                    mx_col = col\n",
    "        tn = None\n",
    "        nxt = dict()\n",
    "        if mx_col is None or mx_gain == 0.0:\n",
    "            mx_occr_targ = df[self.targ_column].mode()[0]\n",
    "            tn = self.DecisionTreeNode(None, nxt, True, mx_occr_targ)\n",
    "        else:\n",
    "            considered[mx_col] = True\n",
    "            for i in df[mx_col].unique():\n",
    "                nxt[i] = self.dfs(df[df[mx_col]==i], considered)\n",
    "            tn = self.DecisionTreeNode(mx_col, nxt, False, None)\n",
    "            considered[mx_col] = False\n",
    "        return tn"
   ]
  },
  {
   "cell_type": "code",
   "execution_count": 15,
   "metadata": {},
   "outputs": [],
   "source": [
    "dt = DecisionTree(tennis_df, 'PlayTennis')\n",
    "root = dt.build()"
   ]
  },
  {
   "cell_type": "code",
   "execution_count": 16,
   "metadata": {},
   "outputs": [],
   "source": [
    "def display_tree(root, depth=0):\n",
    "    s = '\\t'*depth\n",
    "    if root.leaf_node:\n",
    "        print(f'{s}Prediction: {root.pred}')\n",
    "        print()\n",
    "        return\n",
    "    for i in root.nxt.items():\n",
    "        print(f'{s}{root.curr_column}', end=' ')\n",
    "        print(f'= {i[0]}')\n",
    "        display_tree(i[1], depth+1)"
   ]
  },
  {
   "cell_type": "code",
   "execution_count": 17,
   "metadata": {},
   "outputs": [
    {
     "name": "stdout",
     "output_type": "stream",
     "text": [
      "Outlook = Sunny\n",
      "\tHumidity = High\n",
      "\t\tPrediction: No\n",
      "\n",
      "\tHumidity = Normal\n",
      "\t\tPrediction: Yes\n",
      "\n",
      "Outlook = Overcast\n",
      "\tPrediction: Yes\n",
      "\n",
      "Outlook = Rain\n",
      "\tWind = Weak\n",
      "\t\tPrediction: Yes\n",
      "\n",
      "\tWind = Strong\n",
      "\t\tPrediction: No\n",
      "\n"
     ]
    }
   ],
   "source": [
    "display_tree(root)"
   ]
  },
  {
   "cell_type": "markdown",
   "metadata": {},
   "source": [
    "# Problem 3"
   ]
  },
  {
   "cell_type": "code",
   "execution_count": 18,
   "metadata": {},
   "outputs": [
    {
     "data": {
      "text/html": [
       "<div>\n",
       "<style scoped>\n",
       "    .dataframe tbody tr th:only-of-type {\n",
       "        vertical-align: middle;\n",
       "    }\n",
       "\n",
       "    .dataframe tbody tr th {\n",
       "        vertical-align: top;\n",
       "    }\n",
       "\n",
       "    .dataframe thead th {\n",
       "        text-align: right;\n",
       "    }\n",
       "</style>\n",
       "<table border=\"1\" class=\"dataframe\">\n",
       "  <thead>\n",
       "    <tr style=\"text-align: right;\">\n",
       "      <th></th>\n",
       "      <th>Class</th>\n",
       "      <th>Age</th>\n",
       "      <th>Sex</th>\n",
       "      <th>Survived</th>\n",
       "    </tr>\n",
       "  </thead>\n",
       "  <tbody>\n",
       "    <tr>\n",
       "      <th>0</th>\n",
       "      <td>First</td>\n",
       "      <td>Adult</td>\n",
       "      <td>Male</td>\n",
       "      <td>Yes</td>\n",
       "    </tr>\n",
       "    <tr>\n",
       "      <th>1</th>\n",
       "      <td>First</td>\n",
       "      <td>Adult</td>\n",
       "      <td>Male</td>\n",
       "      <td>Yes</td>\n",
       "    </tr>\n",
       "    <tr>\n",
       "      <th>2</th>\n",
       "      <td>First</td>\n",
       "      <td>Adult</td>\n",
       "      <td>Male</td>\n",
       "      <td>Yes</td>\n",
       "    </tr>\n",
       "    <tr>\n",
       "      <th>3</th>\n",
       "      <td>First</td>\n",
       "      <td>Adult</td>\n",
       "      <td>Male</td>\n",
       "      <td>Yes</td>\n",
       "    </tr>\n",
       "    <tr>\n",
       "      <th>4</th>\n",
       "      <td>First</td>\n",
       "      <td>Adult</td>\n",
       "      <td>Male</td>\n",
       "      <td>Yes</td>\n",
       "    </tr>\n",
       "  </tbody>\n",
       "</table>\n",
       "</div>"
      ],
      "text/plain": [
       "   Class    Age   Sex Survived\n",
       "0  First  Adult  Male      Yes\n",
       "1  First  Adult  Male      Yes\n",
       "2  First  Adult  Male      Yes\n",
       "3  First  Adult  Male      Yes\n",
       "4  First  Adult  Male      Yes"
      ]
     },
     "execution_count": 18,
     "metadata": {},
     "output_type": "execute_result"
    }
   ],
   "source": [
    "titanic_df = pd.read_csv(Config.titanic_data_path)\n",
    "titanic_df.head()"
   ]
  },
  {
   "cell_type": "code",
   "execution_count": 19,
   "metadata": {},
   "outputs": [],
   "source": [
    "dt = DecisionTree(titanic_df, 'Survived')\n",
    "root = dt.build()"
   ]
  },
  {
   "cell_type": "code",
   "execution_count": 20,
   "metadata": {},
   "outputs": [
    {
     "name": "stdout",
     "output_type": "stream",
     "text": [
      "Sex = Male\n",
      "\tClass = First\n",
      "\t\tAge = Adult\n",
      "\t\t\tPrediction: No\n",
      "\n",
      "\t\tAge = Child\n",
      "\t\t\tPrediction: Yes\n",
      "\n",
      "\tClass = Second\n",
      "\t\tAge = Adult\n",
      "\t\t\tPrediction: No\n",
      "\n",
      "\t\tAge = Child\n",
      "\t\t\tPrediction: Yes\n",
      "\n",
      "\tClass = Third\n",
      "\t\tAge = Adult\n",
      "\t\t\tPrediction: No\n",
      "\n",
      "\t\tAge = Child\n",
      "\t\t\tPrediction: No\n",
      "\n",
      "\tClass = Crew\n",
      "\t\tPrediction: No\n",
      "\n",
      "Sex = Female\n",
      "\tClass = First\n",
      "\t\tAge = Adult\n",
      "\t\t\tPrediction: Yes\n",
      "\n",
      "\t\tAge = Child\n",
      "\t\t\tPrediction: Yes\n",
      "\n",
      "\tClass = Second\n",
      "\t\tAge = Adult\n",
      "\t\t\tPrediction: Yes\n",
      "\n",
      "\t\tAge = Child\n",
      "\t\t\tPrediction: Yes\n",
      "\n",
      "\tClass = Third\n",
      "\t\tAge = Adult\n",
      "\t\t\tPrediction: No\n",
      "\n",
      "\t\tAge = Child\n",
      "\t\t\tPrediction: No\n",
      "\n",
      "\tClass = Crew\n",
      "\t\tPrediction: Yes\n",
      "\n"
     ]
    }
   ],
   "source": [
    "display_tree(root)"
   ]
  }
 ],
 "metadata": {
  "interpreter": {
   "hash": "00c04d86c0c2026361feab38f47319a2025f138e4e19a681486cac1f5936f67c"
  },
  "kernelspec": {
   "display_name": "Python 3 (ipykernel)",
   "language": "python",
   "name": "python3"
  },
  "language_info": {
   "codemirror_mode": {
    "name": "ipython",
    "version": 3
   },
   "file_extension": ".py",
   "mimetype": "text/x-python",
   "name": "python",
   "nbconvert_exporter": "python",
   "pygments_lexer": "ipython3",
   "version": "3.9.7"
  }
 },
 "nbformat": 4,
 "nbformat_minor": 2
}
