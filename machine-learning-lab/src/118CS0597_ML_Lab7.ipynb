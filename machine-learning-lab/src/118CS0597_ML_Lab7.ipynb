{
 "cells": [
  {
   "cell_type": "code",
   "execution_count": 1,
   "metadata": {},
   "outputs": [],
   "source": [
    "# imports\n",
    "from pathlib import Path\n",
    "import pandas as pd\n",
    "import numpy as np\n",
    "from tqdm import tqdm\n",
    "from sklearn.model_selection import train_test_split\n",
    "from collections import Counter\n",
    "import copy"
   ]
  },
  {
   "cell_type": "code",
   "execution_count": 2,
   "metadata": {},
   "outputs": [],
   "source": [
    "class Config:\n",
    "    machine_data_path = Path('./machine.csv')\n",
    "    titanic_data_path = Path('./Titanic.csv')"
   ]
  },
  {
   "cell_type": "code",
   "execution_count": 3,
   "metadata": {},
   "outputs": [],
   "source": [
    "class HelperFunctions:\n",
    "    @staticmethod\n",
    "    def mean(x):\n",
    "        n = x.shape[0]\n",
    "        return x.sum() / n\n",
    "    \n",
    "    @staticmethod\n",
    "    def std(x):\n",
    "        n = x.shape[0]\n",
    "        x_mean = HelperFunctions.mean(x)\n",
    "        return np.sqrt(1/n*(((x-x_mean)**2).sum()))\n",
    "    \n",
    "    @staticmethod\n",
    "    def covariance(x, y):\n",
    "        n = x.shape[0]\n",
    "        xy_mean = np.multiply(x, y).sum() / n\n",
    "        x_mean = HelperFunctions.mean(x)\n",
    "        y_mean = HelperFunctions.mean(y)\n",
    "        return xy_mean - x_mean*y_mean\n",
    "    \n",
    "    @staticmethod\n",
    "    def correlation(x, y):\n",
    "        corr = 0\n",
    "        corr += HelperFunctions.covariance(x, y) \n",
    "        corr /= HelperFunctions.std(x)\n",
    "        corr /= HelperFunctions.std(y)\n",
    "        return corr\n",
    "    \n",
    "    @staticmethod\n",
    "    def correlation_matrix(x):\n",
    "        n = x.shape[1]\n",
    "        cm = [[0 for i in range(n)] for i in range(n)]\n",
    "        for i in range(n):\n",
    "            for j in range(n):\n",
    "                cm[i][j] = HelperFunctions.correlation(x[:, i], x[:, j]) \n",
    "        return cm\n",
    "    \n",
    "    @staticmethod\n",
    "    def conv_sum(x, y):\n",
    "        return (x*y).sum(axis=1)"
   ]
  },
  {
   "cell_type": "markdown",
   "metadata": {},
   "source": [
    "# Cross validation"
   ]
  },
  {
   "cell_type": "code",
   "execution_count": 4,
   "metadata": {},
   "outputs": [
    {
     "data": {
      "text/html": [
       "<div>\n",
       "<style scoped>\n",
       "    .dataframe tbody tr th:only-of-type {\n",
       "        vertical-align: middle;\n",
       "    }\n",
       "\n",
       "    .dataframe tbody tr th {\n",
       "        vertical-align: top;\n",
       "    }\n",
       "\n",
       "    .dataframe thead th {\n",
       "        text-align: right;\n",
       "    }\n",
       "</style>\n",
       "<table border=\"1\" class=\"dataframe\">\n",
       "  <thead>\n",
       "    <tr style=\"text-align: right;\">\n",
       "      <th></th>\n",
       "      <th>Class</th>\n",
       "      <th>Age</th>\n",
       "      <th>Sex</th>\n",
       "      <th>Survived</th>\n",
       "    </tr>\n",
       "  </thead>\n",
       "  <tbody>\n",
       "    <tr>\n",
       "      <th>0</th>\n",
       "      <td>First</td>\n",
       "      <td>Adult</td>\n",
       "      <td>Male</td>\n",
       "      <td>Yes</td>\n",
       "    </tr>\n",
       "    <tr>\n",
       "      <th>1</th>\n",
       "      <td>First</td>\n",
       "      <td>Adult</td>\n",
       "      <td>Male</td>\n",
       "      <td>Yes</td>\n",
       "    </tr>\n",
       "    <tr>\n",
       "      <th>2</th>\n",
       "      <td>First</td>\n",
       "      <td>Adult</td>\n",
       "      <td>Male</td>\n",
       "      <td>Yes</td>\n",
       "    </tr>\n",
       "    <tr>\n",
       "      <th>3</th>\n",
       "      <td>First</td>\n",
       "      <td>Adult</td>\n",
       "      <td>Male</td>\n",
       "      <td>Yes</td>\n",
       "    </tr>\n",
       "    <tr>\n",
       "      <th>4</th>\n",
       "      <td>First</td>\n",
       "      <td>Adult</td>\n",
       "      <td>Male</td>\n",
       "      <td>Yes</td>\n",
       "    </tr>\n",
       "  </tbody>\n",
       "</table>\n",
       "</div>"
      ],
      "text/plain": [
       "   Class    Age   Sex Survived\n",
       "0  First  Adult  Male      Yes\n",
       "1  First  Adult  Male      Yes\n",
       "2  First  Adult  Male      Yes\n",
       "3  First  Adult  Male      Yes\n",
       "4  First  Adult  Male      Yes"
      ]
     },
     "execution_count": 4,
     "metadata": {},
     "output_type": "execute_result"
    }
   ],
   "source": [
    "titanic_df = pd.read_csv(Config.titanic_data_path)\n",
    "titanic_df.head()"
   ]
  },
  {
   "cell_type": "code",
   "execution_count": 5,
   "metadata": {},
   "outputs": [],
   "source": [
    "train_df, valid_df = train_test_split(titanic_df, \n",
    "                                    test_size=0.2,\n",
    "                                    shuffle=True)\n",
    "train_df = train_df.reset_index(drop=True)\n",
    "valid_df = valid_df.reset_index(drop=True)"
   ]
  },
  {
   "cell_type": "markdown",
   "metadata": {},
   "source": [
    "# Decision Tree with GINI index"
   ]
  },
  {
   "cell_type": "code",
   "execution_count": 6,
   "metadata": {},
   "outputs": [],
   "source": [
    "class DecisionTreeNode:\n",
    "    def __init__(self, curr_column, nxt, leaf_node, pred):\n",
    "        self.curr_column = curr_column\n",
    "        self.nxt = nxt\n",
    "        self.leaf_node = leaf_node\n",
    "        self.pred = pred\n",
    "\n",
    "# using gini index\n",
    "class DecisionTree:\n",
    "    def __init__(self, df, targ_column):\n",
    "        self.df = df\n",
    "        self.feat_cnt = len(df.columns) - 1\n",
    "        self.targ_column = targ_column\n",
    "\n",
    "    def eval_gini_index(self, d):\n",
    "        cntr = Counter(d)\n",
    "        total = 0\n",
    "        for i in cntr.values():\n",
    "            total += i\n",
    "        gini_index = 1\n",
    "        for i in cntr.values():\n",
    "            p = i/total\n",
    "            gini_index -= (p**2)\n",
    "        return gini_index\n",
    "    \n",
    "    def build(self, max_depth=1000000007):\n",
    "        considered = dict()\n",
    "        for i in self.df.columns:\n",
    "            if i != self.targ_column:\n",
    "                considered[i] = False\n",
    "        root = self.dfs(self.df, considered, 1, max_depth)\n",
    "        return root\n",
    "        \n",
    "    def dfs(self, df, considered, depth, max_depth):\n",
    "        mx_gain = 0.0\n",
    "        mx_col = None\n",
    "        # gini index of the passed df\n",
    "        s = self.eval_gini_index(df[self.targ_column])\n",
    "        cnt = len(df)\n",
    "        for col in df.columns:\n",
    "            if col!=self.targ_column and not considered[col]:\n",
    "                gini_index_col = 0\n",
    "                for val in df[col].unique():\n",
    "                    val_df = df[df[col]==val]\n",
    "                    p =  len(val_df) / cnt\n",
    "                    gini_index_col += p*self.eval_gini_index(val_df[self.targ_column])\n",
    "                # gini index gain\n",
    "                g = s - gini_index_col\n",
    "                if g >= mx_gain:\n",
    "                    mx_gain = g\n",
    "                    mx_col = col\n",
    "        tn = None\n",
    "        nxt = dict()\n",
    "        # leaf node conditions\n",
    "        if mx_col is None or mx_gain == 0.0 or depth>max_depth:\n",
    "            mx_occr_targ = df[self.targ_column].mode()[0]\n",
    "            tn = DecisionTreeNode(None, nxt, True, mx_occr_targ)\n",
    "        else:\n",
    "            considered[mx_col] = True\n",
    "            for i in df[mx_col].unique():\n",
    "                nxt[i] = self.dfs(df[df[mx_col]==i], considered, depth+1, max_depth)\n",
    "            tn = DecisionTreeNode(mx_col, nxt, False, None)\n",
    "            considered[mx_col] = False\n",
    "        return tn"
   ]
  },
  {
   "cell_type": "code",
   "execution_count": 7,
   "metadata": {},
   "outputs": [],
   "source": [
    "def display_tree(root, depth=0):\n",
    "    s = '\\t'*depth\n",
    "    if root.leaf_node:\n",
    "        print(f'{s}Prediction: {root.pred}')\n",
    "        print()\n",
    "        return\n",
    "    for i in root.nxt.items():\n",
    "        print(f'{s}{root.curr_column}', end=' ')\n",
    "        print(f'= {i[0]}')\n",
    "        display_tree(i[1], depth+1)"
   ]
  },
  {
   "cell_type": "code",
   "execution_count": 8,
   "metadata": {},
   "outputs": [],
   "source": [
    "dt = DecisionTree(train_df, 'Survived')\n",
    "root = dt.build()"
   ]
  },
  {
   "cell_type": "code",
   "execution_count": 9,
   "metadata": {},
   "outputs": [
    {
     "name": "stdout",
     "output_type": "stream",
     "text": [
      "Sex = Male\n",
      "\tClass = Third\n",
      "\t\tAge = Adult\n",
      "\t\t\tPrediction: No\n",
      "\n",
      "\t\tAge = Child\n",
      "\t\t\tPrediction: No\n",
      "\n",
      "\tClass = Crew\n",
      "\t\tPrediction: No\n",
      "\n",
      "\tClass = First\n",
      "\t\tAge = Adult\n",
      "\t\t\tPrediction: No\n",
      "\n",
      "\t\tAge = Child\n",
      "\t\t\tPrediction: Yes\n",
      "\n",
      "\tClass = Second\n",
      "\t\tAge = Adult\n",
      "\t\t\tPrediction: No\n",
      "\n",
      "\t\tAge = Child\n",
      "\t\t\tPrediction: Yes\n",
      "\n",
      "Sex = Female\n",
      "\tClass = Third\n",
      "\t\tAge = Adult\n",
      "\t\t\tPrediction: No\n",
      "\n",
      "\t\tAge = Child\n",
      "\t\t\tPrediction: No\n",
      "\n",
      "\tClass = Second\n",
      "\t\tAge = Adult\n",
      "\t\t\tPrediction: Yes\n",
      "\n",
      "\t\tAge = Child\n",
      "\t\t\tPrediction: Yes\n",
      "\n",
      "\tClass = First\n",
      "\t\tAge = Adult\n",
      "\t\t\tPrediction: Yes\n",
      "\n",
      "\t\tAge = Child\n",
      "\t\t\tPrediction: Yes\n",
      "\n",
      "\tClass = Crew\n",
      "\t\tPrediction: Yes\n",
      "\n"
     ]
    }
   ],
   "source": [
    "display_tree(root)"
   ]
  },
  {
   "cell_type": "markdown",
   "metadata": {},
   "source": [
    "# Checking for overfitting"
   ]
  },
  {
   "cell_type": "code",
   "execution_count": 10,
   "metadata": {},
   "outputs": [],
   "source": [
    "def predict(root, df):\n",
    "    preds = []\n",
    "    for idx, row in df.iterrows():\n",
    "        curr_root = root\n",
    "        while not curr_root.pred:\n",
    "            curr_col = curr_root.curr_column\n",
    "            curr_root = curr_root.nxt[row[curr_col]]\n",
    "            continue\n",
    "        preds.append(curr_root.pred)\n",
    "    return np.array(preds)"
   ]
  },
  {
   "cell_type": "code",
   "execution_count": 11,
   "metadata": {},
   "outputs": [],
   "source": [
    "train_preds = predict(root, train_df)\n",
    "valid_preds = predict(root, valid_df)"
   ]
  },
  {
   "cell_type": "code",
   "execution_count": 12,
   "metadata": {},
   "outputs": [],
   "source": [
    "def accuracy(preds, targ):\n",
    "    n = preds.shape[0]\n",
    "    return (preds==targ).sum() / n"
   ]
  },
  {
   "cell_type": "code",
   "execution_count": 13,
   "metadata": {},
   "outputs": [],
   "source": [
    "train_acc = accuracy(train_preds, train_df['Survived'])\n",
    "valid_acc = accuracy(valid_preds, valid_df['Survived'])"
   ]
  },
  {
   "cell_type": "code",
   "execution_count": 14,
   "metadata": {},
   "outputs": [
    {
     "name": "stdout",
     "output_type": "stream",
     "text": [
      "For the full decision tree:\n",
      "Training Accuracy: 0.7846590909090909\n",
      "Validation Accuracy: 0.8140589569160998\n"
     ]
    }
   ],
   "source": [
    "print(f'For the full decision tree:')\n",
    "print(f'Training Accuracy: {train_acc}\\nValidation Accuracy: {valid_acc}')"
   ]
  },
  {
   "cell_type": "markdown",
   "metadata": {},
   "source": [
    "Since the training and validation accuracy are so close we are not overfitting"
   ]
  },
  {
   "cell_type": "markdown",
   "metadata": {},
   "source": [
    "# Using pre-prunning"
   ]
  },
  {
   "cell_type": "code",
   "execution_count": 15,
   "metadata": {},
   "outputs": [],
   "source": [
    "preprunned_dt = DecisionTree(train_df, 'Survived')\n",
    "preprunned_root = preprunned_dt.build(max_depth=2)"
   ]
  },
  {
   "cell_type": "code",
   "execution_count": 16,
   "metadata": {},
   "outputs": [
    {
     "name": "stdout",
     "output_type": "stream",
     "text": [
      "Sex = Male\n",
      "\tClass = Third\n",
      "\t\tPrediction: No\n",
      "\n",
      "\tClass = Crew\n",
      "\t\tPrediction: No\n",
      "\n",
      "\tClass = First\n",
      "\t\tPrediction: No\n",
      "\n",
      "\tClass = Second\n",
      "\t\tPrediction: No\n",
      "\n",
      "Sex = Female\n",
      "\tClass = Third\n",
      "\t\tPrediction: No\n",
      "\n",
      "\tClass = Second\n",
      "\t\tPrediction: Yes\n",
      "\n",
      "\tClass = First\n",
      "\t\tPrediction: Yes\n",
      "\n",
      "\tClass = Crew\n",
      "\t\tPrediction: Yes\n",
      "\n"
     ]
    }
   ],
   "source": [
    "display_tree(preprunned_root)"
   ]
  },
  {
   "cell_type": "code",
   "execution_count": 17,
   "metadata": {},
   "outputs": [],
   "source": [
    "train_preds = predict(preprunned_root, train_df)\n",
    "valid_preds = predict(preprunned_root, valid_df)"
   ]
  },
  {
   "cell_type": "code",
   "execution_count": 18,
   "metadata": {},
   "outputs": [],
   "source": [
    "train_acc = accuracy(train_preds, train_df['Survived'])\n",
    "valid_acc = accuracy(valid_preds, valid_df['Survived'])"
   ]
  },
  {
   "cell_type": "code",
   "execution_count": 19,
   "metadata": {},
   "outputs": [
    {
     "name": "stdout",
     "output_type": "stream",
     "text": [
      "After preprunning:\n",
      "Training Accuracy: 0.7767045454545455\n",
      "Validation Accuracy: 0.8095238095238095\n"
     ]
    }
   ],
   "source": [
    "print('After preprunning:')\n",
    "print(f'Training Accuracy: {train_acc}\\nValidation Accuracy: {valid_acc}')"
   ]
  },
  {
   "cell_type": "markdown",
   "metadata": {},
   "source": [
    "This model is generalizing much better"
   ]
  },
  {
   "cell_type": "markdown",
   "metadata": {},
   "source": [
    "# Using post-prunning"
   ]
  },
  {
   "cell_type": "code",
   "execution_count": 20,
   "metadata": {},
   "outputs": [],
   "source": [
    "def dt_postprune(root, parent, col_selected, full_dt, train_df, valid_df):\n",
    "    if root.pred: \n",
    "        return root \n",
    "    cols = list()\n",
    "    for col in root.nxt.keys(): cols.append(col)\n",
    "    for col in cols:\n",
    "        root.nxt[col] = dt_postprune(root.nxt[col], \n",
    "                            root,\n",
    "                            col,\n",
    "                            full_dt,\n",
    "                            train_df[train_df[root.curr_column]==col], \n",
    "                            valid_df)\n",
    "    if parent != -1:\n",
    "        full_dt_preds = predict(full_dt, valid_df)\n",
    "        acc = accuracy(full_dt_preds, valid_df['Survived'])\n",
    "\n",
    "        mx_occr_targ = train_df['Survived'].mode()[0]\n",
    "        prunned_node = DecisionTreeNode(None, dict(), True, mx_occr_targ)\n",
    "        parent.nxt[col_selected] = prunned_node\n",
    "        prunned_preds = predict(full_dt, valid_df)\n",
    "        prunned_acc = accuracy(prunned_preds, valid_df['Survived'])\n",
    "\n",
    "        if prunned_acc >= acc:\n",
    "            return prunned_node\n",
    "    return root"
   ]
  },
  {
   "cell_type": "code",
   "execution_count": 21,
   "metadata": {},
   "outputs": [
    {
     "name": "stdout",
     "output_type": "stream",
     "text": [
      "Sex = Male\n",
      "\tClass = Third\n",
      "\t\tPrediction: No\n",
      "\n",
      "\tClass = Crew\n",
      "\t\tPrediction: No\n",
      "\n",
      "\tClass = First\n",
      "\t\tAge = Adult\n",
      "\t\t\tPrediction: No\n",
      "\n",
      "\t\tAge = Child\n",
      "\t\t\tPrediction: Yes\n",
      "\n",
      "\tClass = Second\n",
      "\t\tAge = Adult\n",
      "\t\t\tPrediction: No\n",
      "\n",
      "\t\tAge = Child\n",
      "\t\t\tPrediction: Yes\n",
      "\n",
      "Sex = Female\n",
      "\tClass = Third\n",
      "\t\tPrediction: No\n",
      "\n",
      "\tClass = Second\n",
      "\t\tPrediction: Yes\n",
      "\n",
      "\tClass = First\n",
      "\t\tPrediction: Yes\n",
      "\n",
      "\tClass = Crew\n",
      "\t\tPrediction: Yes\n",
      "\n"
     ]
    }
   ],
   "source": [
    "postprunned_root = dt_postprune(root, -1, -1, root, train_df, valid_df)\n",
    "display_tree(postprunned_root)"
   ]
  },
  {
   "cell_type": "code",
   "execution_count": 22,
   "metadata": {},
   "outputs": [],
   "source": [
    "train_preds = predict(postprunned_root, train_df)\n",
    "valid_preds = predict(postprunned_root, valid_df)"
   ]
  },
  {
   "cell_type": "code",
   "execution_count": 23,
   "metadata": {},
   "outputs": [],
   "source": [
    "train_acc = accuracy(train_preds, train_df['Survived'])\n",
    "valid_acc = accuracy(valid_preds, valid_df['Survived'])"
   ]
  },
  {
   "cell_type": "code",
   "execution_count": 24,
   "metadata": {},
   "outputs": [
    {
     "name": "stdout",
     "output_type": "stream",
     "text": [
      "After post prunning:\n",
      "Training Accuracy: 0.7846590909090909\n",
      "Validation Accuracy: 0.8140589569160998\n"
     ]
    }
   ],
   "source": [
    "print('After post prunning:')\n",
    "print(f'Training Accuracy: {train_acc}\\nValidation Accuracy: {valid_acc}')"
   ]
  }
 ],
 "metadata": {
  "interpreter": {
   "hash": "00c04d86c0c2026361feab38f47319a2025f138e4e19a681486cac1f5936f67c"
  },
  "kernelspec": {
   "display_name": "Python 3 (ipykernel)",
   "language": "python",
   "name": "python3"
  },
  "language_info": {
   "codemirror_mode": {
    "name": "ipython",
    "version": 3
   },
   "file_extension": ".py",
   "mimetype": "text/x-python",
   "name": "python",
   "nbconvert_exporter": "python",
   "pygments_lexer": "ipython3",
   "version": "3.9.7"
  }
 },
 "nbformat": 4,
 "nbformat_minor": 2
}
