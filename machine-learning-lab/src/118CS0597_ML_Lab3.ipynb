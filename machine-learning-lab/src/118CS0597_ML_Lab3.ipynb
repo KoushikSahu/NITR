{
 "cells": [
  {
   "cell_type": "code",
   "execution_count": 1,
   "id": "d5e17e5c",
   "metadata": {},
   "outputs": [],
   "source": [
    "# imports\n",
    "import numpy as np\n",
    "import matplotlib.pyplot as plt\n",
    "import pandas as pd\n",
    "from pathlib import Path\n",
    "from sklearn.model_selection import train_test_split\n",
    "from sklearn.metrics import confusion_matrix\n",
    "import seaborn as sn"
   ]
  },
  {
   "cell_type": "code",
   "execution_count": 2,
   "id": "d17c841c",
   "metadata": {},
   "outputs": [],
   "source": [
    "class HelperFunctions:\n",
    "    @staticmethod\n",
    "    def covariance_matrix2x2d(sigma1, sigma2, sigma12):\n",
    "        return np.array([[sigma1**2, sigma12], [sigma12, sigma2**2]])\n",
    "    \n",
    "    @staticmethod\n",
    "    def column_matrix(*args):\n",
    "        return np.expand_dims(np.array(args), axis=0).T"
   ]
  },
  {
   "cell_type": "markdown",
   "id": "9d6764ca",
   "metadata": {},
   "source": [
    "# Problem 1"
   ]
  },
  {
   "cell_type": "code",
   "execution_count": 3,
   "id": "426ec6c2",
   "metadata": {},
   "outputs": [],
   "source": [
    "def build_confusion_matrix(preds, targ):\n",
    "    tp = 0\n",
    "    tn = 0\n",
    "    fp = 0\n",
    "    fn = 0\n",
    "    for i in range(preds.shape[0]):\n",
    "        if preds[i] == targ[i]:\n",
    "            if preds[i] == 1:\n",
    "                tp += 1\n",
    "            else:\n",
    "                tn += 1\n",
    "        else:\n",
    "            if preds[i] == 1:\n",
    "                fp += 1\n",
    "            else:\n",
    "                fn += 1\n",
    "    return tp, tn, fp, fn"
   ]
  },
  {
   "cell_type": "markdown",
   "id": "8c35ead9",
   "metadata": {},
   "source": [
    "## Using data from problem 2 of lab-2"
   ]
  },
  {
   "cell_type": "code",
   "execution_count": 4,
   "id": "7b86eb1b",
   "metadata": {},
   "outputs": [],
   "source": [
    "def describe_result(tp, tn, fp, fn, total):\n",
    "    accuracy = (tp+tn)/total\n",
    "    precision = tp/(tp+fp)\n",
    "    recall = tp/(tp+fn)\n",
    "    f1score = (2*precision*recall) / (precision+recall)\n",
    "    return accuracy, precision, recall, f1score"
   ]
  },
  {
   "cell_type": "code",
   "execution_count": 5,
   "id": "0bb812a0",
   "metadata": {},
   "outputs": [],
   "source": [
    "class Problem2:\n",
    "    n1 = 250\n",
    "    n2 = 500\n",
    "    m1 = np.array([0, 0, 0, 0, 0])\n",
    "    m2 = np.array([0, 0, 0, 0, 0])\n",
    "    s1 = np.array([ \\\n",
    "        [0.8, 0.2, 0.1, 0.05, 0.01],\n",
    "        [0.2, 0.7, 0.1, 0.03, 0.02],\n",
    "        [0.1, 0.1, 0.8, 0.02, 0.01],\n",
    "        [0.05, 0.03, 0.02, 0.9, 0.01],\n",
    "        [0.01, 0.02, 0.01, 0.01, 0.8] \\\n",
    "    ])\n",
    "    s2 = np.array([ \\\n",
    "        [0.9, 0.1, 0.05, 0.02, 0.01],\n",
    "        [0.1, 0.8, 0.1, 0.02, 0.02],\n",
    "        [0.05, 0.1, 0.7, 0.02, 0.01],\n",
    "        [0.02, 0.02, 0.02, 0.6, 0.02],\n",
    "        [0.01, 0.02, 0.01, 0.02, 0.7] \\\n",
    "    ])"
   ]
  },
  {
   "cell_type": "code",
   "execution_count": 6,
   "id": "e052e07c",
   "metadata": {},
   "outputs": [
    {
     "name": "stdout",
     "output_type": "stream",
     "text": [
      "(250, 5) (250, 5)\n"
     ]
    }
   ],
   "source": [
    "x1 = np.random.multivariate_normal(Problem2.m1, Problem2.s1, Problem2.n1)\n",
    "x2 = np.random.multivariate_normal(Problem2.m2, Problem2.s2, Problem2.n1)\n",
    "print(x1.shape, x2.shape)"
   ]
  },
  {
   "cell_type": "code",
   "execution_count": 7,
   "id": "f815c427",
   "metadata": {},
   "outputs": [],
   "source": [
    "class BayesClassifier:\n",
    "    def __init__(self, data, probs):\n",
    "        self.data = data\n",
    "        self.probs = probs\n",
    "        self.mean = list()\n",
    "        self.vars = list()\n",
    "        for class_data in self.data:\n",
    "            self.mean.append(np.mean(class_data, axis=0))\n",
    "            self.vars.append(np.var(class_data, axis=0))\n",
    "        self.n_classes = len(self.mean)\n",
    "    \n",
    "    def predict(self, data_pts):\n",
    "        preds = list()\n",
    "        for data_pt in data_pts:\n",
    "            probs = list()\n",
    "            for c in range(self.n_classes):\n",
    "                prob = 1\n",
    "                for f in range(data_pt.shape[0]):\n",
    "                    prob *= 1/(2*np.pi*(self.vars[c][f]**2))\n",
    "                    prob *= np.exp(-1*((data_pt[f]-self.mean[c][f])**2)/(2*self.vars[c][f]**2))\n",
    "                prob *= self.probs[c]\n",
    "                probs.append(prob)\n",
    "            preds.append(np.argmax(probs))\n",
    "        return np.expand_dims(np.array(preds), axis=1)\n",
    "\n",
    "    def accuracy(self, data_pts, data_label):\n",
    "        n = data_pts.shape[0]\n",
    "        preds = self.predict(data_pts)\n",
    "        return (preds==data_label).sum() / n"
   ]
  },
  {
   "cell_type": "code",
   "execution_count": 8,
   "id": "3a79be63",
   "metadata": {},
   "outputs": [],
   "source": [
    "bc = BayesClassifier([x1, x2], [0.5, 0.5])"
   ]
  },
  {
   "cell_type": "code",
   "execution_count": 9,
   "id": "c02d01c1",
   "metadata": {},
   "outputs": [
    {
     "name": "stdout",
     "output_type": "stream",
     "text": [
      "(1000, 5)\n",
      "(1000, 1)\n"
     ]
    }
   ],
   "source": [
    "# building testset\n",
    "test_data = np.vstack(\n",
    "    (\n",
    "        np.random.multivariate_normal(Problem2.m1, Problem2.s1, Problem2.n2),\n",
    "        np.random.multivariate_normal(Problem2.m2, Problem2.s2, Problem2.n2)\n",
    "    )\n",
    ")\n",
    "\n",
    "test_label = np.vstack(\n",
    "    (\n",
    "        np.zeros((500, 1)),\n",
    "        np.ones((500, 1))\n",
    "    )\n",
    ")\n",
    "\n",
    "print(test_data.shape)\n",
    "print(test_label.shape)"
   ]
  },
  {
   "cell_type": "code",
   "execution_count": 10,
   "id": "4ac1eea1",
   "metadata": {},
   "outputs": [],
   "source": [
    "preds = bc.predict(test_data)\n",
    "tp, tn, fp, fn = build_confusion_matrix(preds, test_label)\n",
    "total = test_data.shape[0]\n",
    "accuracy, precision, recall, f1score = describe_result(tp, tn, fp, fn, total)"
   ]
  },
  {
   "cell_type": "code",
   "execution_count": 11,
   "id": "e03ac926",
   "metadata": {},
   "outputs": [
    {
     "data": {
      "image/png": "[encoded data removed]",
      "text/plain": [
       "<Figure size 432x288 with 2 Axes>"
      ]
     },
     "metadata": {
      "needs_background": "light"
     },
     "output_type": "display_data"
    }
   ],
   "source": [
    "columns = range(2)\n",
    "cnfs_mat = confusion_matrix(preds, test_label)\n",
    "df = pd.DataFrame(cnfs_mat, columns=columns, index=columns)\n",
    "ax = sn.heatmap(df, cmap='Oranges', annot=True, fmt='g')\n",
    "ax.invert_yaxis()"
   ]
  },
  {
   "cell_type": "code",
   "execution_count": 12,
   "id": "0b2de4d3",
   "metadata": {},
   "outputs": [
    {
     "name": "stdout",
     "output_type": "stream",
     "text": [
      "true positive: 328\n",
      "true negative: 198\n",
      "false positive: 302\n",
      "false negative: 172\n",
      "accuracy: 0.526\n",
      "precision: 0.5206349206349207\n",
      "recall: 0.656\n",
      "f1score: 0.5805309734513274\n"
     ]
    }
   ],
   "source": [
    "print(f'true positive: {tp}')\n",
    "print(f'true negative: {tn}')\n",
    "print(f'false positive: {fp}')\n",
    "print(f'false negative: {fn}')\n",
    "print(f'accuracy: {accuracy}')\n",
    "print(f'precision: {precision}')\n",
    "print(f'recall: {recall}')\n",
    "print(f'f1score: {f1score}')"
   ]
  },
  {
   "cell_type": "markdown",
   "id": "437c3590",
   "metadata": {},
   "source": [
    "## Using data from problem 3 of lab-2"
   ]
  },
  {
   "cell_type": "code",
   "execution_count": 13,
   "id": "0e11b9fd",
   "metadata": {},
   "outputs": [],
   "source": [
    "class Problem3:\n",
    "    p1 = 0.6\n",
    "    p2 = 0.4\n",
    "    m1 = np.array([0, 0])\n",
    "    m2 = np.array([1, 2])\n",
    "    s = np.array(\n",
    "        [\n",
    "            [0.8, 0.2],\n",
    "            [0.2, 0.8]\n",
    "        ]\n",
    "    )\n",
    "    n1 = 500\n",
    "    n2 = 1500"
   ]
  },
  {
   "cell_type": "code",
   "execution_count": 14,
   "id": "ec59f703",
   "metadata": {},
   "outputs": [],
   "source": [
    "train_data = list()\n",
    "train_data.append(np.random.multivariate_normal(Problem3.m1, Problem3.s, Problem3.n1))\n",
    "train_data.append(np.random.multivariate_normal(Problem3.m2, Problem3.s, Problem3.n1))\n",
    "\n",
    "test_data = np.vstack(\n",
    "    (\n",
    "        np.random.multivariate_normal(Problem3.m1, Problem3.s, Problem3.n2),\n",
    "        np.random.multivariate_normal(Problem3.m2, Problem3.s, Problem3.n2)\n",
    "    )\n",
    ")\n",
    "test_label = np.vstack(\n",
    "    (\n",
    "        np.zeros((Problem3.n2, 1)),\n",
    "        np.ones((Problem3.n2, 1))\n",
    "    )\n",
    ")"
   ]
  },
  {
   "cell_type": "code",
   "execution_count": 15,
   "id": "4554a135",
   "metadata": {},
   "outputs": [],
   "source": [
    "bc = BayesClassifier(train_data, [Problem3.p1, Problem3.p2])"
   ]
  },
  {
   "cell_type": "code",
   "execution_count": 16,
   "id": "3d28a3fc",
   "metadata": {},
   "outputs": [],
   "source": [
    "preds = bc.predict(test_data)\n",
    "tp, tn, fp, fn = build_confusion_matrix(preds, test_label)\n",
    "total = test_data.shape[0]\n",
    "accuracy, precision, recall, f1score = describe_result(tp, tn, fp, fn, total)"
   ]
  },
  {
   "cell_type": "code",
   "execution_count": 17,
   "id": "cfd22494",
   "metadata": {},
   "outputs": [
    {
     "data": {
      "image/png": "[encoded data removed]",
      "text/plain": [
       "<Figure size 432x288 with 2 Axes>"
      ]
     },
     "metadata": {
      "needs_background": "light"
     },
     "output_type": "display_data"
    }
   ],
   "source": [
    "columns = range(2)\n",
    "cnfs_mat = confusion_matrix(preds, test_label)\n",
    "df = pd.DataFrame(cnfs_mat, columns=columns, index=columns)\n",
    "ax = sn.heatmap(df, cmap='Oranges', annot=True, fmt='g')\n",
    "ax.invert_yaxis()"
   ]
  },
  {
   "cell_type": "code",
   "execution_count": 18,
   "id": "577f5c64",
   "metadata": {},
   "outputs": [
    {
     "name": "stdout",
     "output_type": "stream",
     "text": [
      "true positive: 1281\n",
      "true negative: 1324\n",
      "false positive: 176\n",
      "false negative: 219\n",
      "accuracy: 0.8683333333333333\n",
      "precision: 0.87920384351407\n",
      "recall: 0.854\n",
      "f1score: 0.8664186675684815\n"
     ]
    }
   ],
   "source": [
    "print(f'true positive: {tp}')\n",
    "print(f'true negative: {tn}')\n",
    "print(f'false positive: {fp}')\n",
    "print(f'false negative: {fn}')\n",
    "print(f'accuracy: {accuracy}')\n",
    "print(f'precision: {precision}')\n",
    "print(f'recall: {recall}')\n",
    "print(f'f1score: {f1score}')"
   ]
  },
  {
   "cell_type": "markdown",
   "id": "a0a99fbc",
   "metadata": {},
   "source": [
    "## Using data from problem 4 of lab-2"
   ]
  },
  {
   "cell_type": "code",
   "execution_count": 19,
   "id": "8323a249",
   "metadata": {},
   "outputs": [],
   "source": [
    "class Config:\n",
    "    iris_datapath = Path('../data/iris.data')"
   ]
  },
  {
   "cell_type": "code",
   "execution_count": 20,
   "id": "c236666f",
   "metadata": {},
   "outputs": [],
   "source": [
    "iris_dataframe = pd.read_csv(Config.iris_datapath, \n",
    "                             names=['sepal_length', 'sepal_width', 'petal_length', 'petal_width', 'class'])"
   ]
  },
  {
   "cell_type": "code",
   "execution_count": 21,
   "id": "02181170",
   "metadata": {},
   "outputs": [],
   "source": [
    "class_encode = {\n",
    "    'Iris-virginica': 0,\n",
    "    'Iris-setosa': 1,\n",
    "    'Iris-versicolor': 2\n",
    "}"
   ]
  },
  {
   "cell_type": "code",
   "execution_count": 22,
   "id": "0b0ceccd",
   "metadata": {},
   "outputs": [],
   "source": [
    "iris_dataframe['class'] = [class_encode[i] for i in iris_dataframe['class']]"
   ]
  },
  {
   "cell_type": "code",
   "execution_count": 23,
   "id": "21f113ea",
   "metadata": {},
   "outputs": [],
   "source": [
    "train_data, test_data = train_test_split(iris_dataframe, test_size=0.5, shuffle=True, stratify=iris_dataframe['class'])\n",
    "train_data.reset_index(drop=False, inplace=True)\n",
    "test_data.reset_index(drop=False, inplace=True)"
   ]
  },
  {
   "cell_type": "code",
   "execution_count": 24,
   "id": "9954319c",
   "metadata": {},
   "outputs": [],
   "source": [
    "class_data = [\n",
    "    train_data[train_data['class']==0].reset_index(drop=True),\n",
    "    train_data[train_data['class']==1].reset_index(drop=True),\n",
    "    train_data[train_data['class']==2].reset_index(drop=True)\n",
    "]\n",
    "for df in class_data:\n",
    "    df.drop(columns=['class'], inplace=True)\n",
    "probs = [0.33, 0.33, 0.33]"
   ]
  },
  {
   "cell_type": "code",
   "execution_count": 25,
   "id": "c0e828a8",
   "metadata": {},
   "outputs": [],
   "source": [
    "bc = BayesClassifier(class_data, probs)"
   ]
  },
  {
   "cell_type": "code",
   "execution_count": 26,
   "id": "97ca293b",
   "metadata": {},
   "outputs": [],
   "source": [
    "preds = bc.predict(test_data.drop(columns=['class']).to_numpy())\n",
    "test_label = np.expand_dims(test_data['class'].to_numpy(), axis=1)\n",
    "tp, tn, fp, fn = build_confusion_matrix(preds, test_label)\n",
    "total = test_data.shape[0]\n",
    "accuracy, precision, recall, f1score = describe_result(tp, tn, fp, fn, total)"
   ]
  },
  {
   "cell_type": "code",
   "execution_count": 27,
   "id": "8ef346fd",
   "metadata": {},
   "outputs": [
    {
     "data": {
      "image/png": "[encoded data removed]",
      "text/plain": [
       "<Figure size 432x288 with 2 Axes>"
      ]
     },
     "metadata": {
      "needs_background": "light"
     },
     "output_type": "display_data"
    }
   ],
   "source": [
    "columns = range(3)\n",
    "cnfs_mat = confusion_matrix(preds, test_label)\n",
    "df = pd.DataFrame(cnfs_mat, columns=columns, index=columns)\n",
    "ax = sn.heatmap(df, cmap='Oranges', annot=True, fmt='g')\n",
    "ax.invert_yaxis()"
   ]
  },
  {
   "cell_type": "code",
   "execution_count": 28,
   "id": "6567860b",
   "metadata": {},
   "outputs": [
    {
     "name": "stdout",
     "output_type": "stream",
     "text": [
      "true positive: 18\n",
      "true negative: 47\n",
      "false positive: 0\n",
      "false negative: 10\n",
      "accuracy: 0.8666666666666667\n",
      "precision: 1.0\n",
      "recall: 0.6428571428571429\n",
      "f1score: 0.782608695652174\n"
     ]
    }
   ],
   "source": [
    "print(f'true positive: {tp}')\n",
    "print(f'true negative: {tn}')\n",
    "print(f'false positive: {fp}')\n",
    "print(f'false negative: {fn}')\n",
    "print(f'accuracy: {accuracy}')\n",
    "print(f'precision: {precision}')\n",
    "print(f'recall: {recall}')\n",
    "print(f'f1score: {f1score}')"
   ]
  },
  {
   "cell_type": "markdown",
   "id": "4e5033db",
   "metadata": {},
   "source": [
    "# Problem 2"
   ]
  },
  {
   "cell_type": "code",
   "execution_count": 29,
   "id": "462e8fdd",
   "metadata": {},
   "outputs": [],
   "source": [
    "# getting the lab-2 question-2 data and \n",
    "# creating bayes classfier model object\n",
    "x1 = np.random.multivariate_normal(Problem2.m1, Problem2.s1, Problem2.n1)\n",
    "x2 = np.random.multivariate_normal(Problem2.m2, Problem2.s2, Problem2.n1)\n",
    "bc = BayesClassifier([x1, x2], [0.5, 0.5])"
   ]
  },
  {
   "cell_type": "markdown",
   "id": "78091697",
   "metadata": {},
   "source": [
    "## for minimum error probability"
   ]
  },
  {
   "cell_type": "markdown",
   "id": "bbc8da1c",
   "metadata": {},
   "source": [
    "$$\n",
    "p(x_{j}|w_{i}) = \\frac{1}{\\sqrt{2\\pi\\sigma_{ij}^{2}}}e^{-\\frac{x[j]-m_{ij}^{2}}{2\\sigma_{ij}^{2}}}\n",
    "$$\n",
    "We need $p(x_{i}|w_{1}) = p(x_{i}|w_{2})$\n",
    "$$\n",
    "\\Rightarrow \\frac{1}{\\sqrt{2\\pi\\sigma_{1j}^{2}}}e^{-\\frac{x[j]-m_{1j}^{2}}{2\\sigma_{1j}^{2}}} = \\frac{1}{\\sqrt{2\\pi\\sigma_{2j}^{2}}}e^{-\\frac{x[j]-m_{2j}^{2}}{2\\sigma_{2j}^{2}}}\n",
    "$$\n",
    "$$\n",
    "\\Rightarrow \\frac{\\sqrt{2\\pi\\sigma_{1j}^{2}}}{\\sqrt{2\\pi\\sigma_{2j}^{2}}} = \\frac{e^{-\\frac{x[j]-m_{1j}^{2}}{2\\sigma_{1j}^{2}}}}{e^{-\\frac{x[j]-m_{2j}^{2}}{2\\sigma_{2j}^{2}}}}\n",
    "$$\n",
    "$$\n",
    "\\Rightarrow \\frac{\\sigma_{1j}}{\\sigma_{2j}} = e^{-\\frac{x[j]-m_{1j}^{2}}{2\\sigma_{1j}^{2}}+\\frac{x[j]-m_{2j}^{2}}{2\\sigma_{2j}^{2}}}\n",
    "$$\n",
    "$$\n",
    "\\Rightarrow x[j] = \\frac{2\\sigma_{1j}^{2}\\sigma_{2j}^{2}ln\\frac{\\sigma_{1j}}{\\sigma_{2j}} - \\sigma_{2j}^{2}m_{1j}^{2} + \\sigma_{1j}^{2}m_{2j}^{2}}{\\sigma_{1j}^{2}-\\sigma_{2j}^{2}}\n",
    "$$"
   ]
  },
  {
   "cell_type": "code",
   "execution_count": 30,
   "id": "2a2aa3e8",
   "metadata": {},
   "outputs": [
    {
     "name": "stdout",
     "output_type": "stream",
     "text": [
      "Threshold x0: [0.71625892 0.58513288 0.46900243 0.59383255 0.45386744]\n"
     ]
    }
   ],
   "source": [
    "# using the above evaluation\n",
    "feature_cnt = 5\n",
    "x0 = np.zeros(feature_cnt)\n",
    "\n",
    "for j in range(feature_cnt):\n",
    "    sigma1j = bc.vars[0][j]\n",
    "    sigma2j = bc.vars[1][j]\n",
    "    mu1j = bc.mean[0][j]\n",
    "    mu2j = bc.mean[1][j]\n",
    "    numr = 2*np.power(sigma1j, 2)*np.power(sigma2j, 2)*np.log(sigma1j/sigma2j) \\\n",
    "            - np.power(sigma2j*mu1j, 2)*np.power(sigma1j*mu2j, 2)\n",
    "    dnmr = np.power(sigma1j, 2)-np.power(sigma2j, 2)\n",
    "    x0[j] = numr/dnmr\n",
    "\n",
    "print(f'Threshold x0: {x0}')"
   ]
  },
  {
   "cell_type": "markdown",
   "id": "cacad1cd",
   "metadata": {},
   "source": [
    "## for minimum risk"
   ]
  },
  {
   "cell_type": "markdown",
   "id": "6a413b00",
   "metadata": {},
   "source": [
    "$$\n",
    "p(x_{j}|w_{i}) = \\frac{1}{\\sqrt{2\\pi\\sigma_{ij}^{2}}}e^{-\\frac{x[j]-m_{ij}^{2}}{2\\sigma_{ij}^{2}}}\n",
    "$$\n",
    "We need $\\lambda_{12}p(x_{i}|w_{1}) = \\lambda_{12}p(x_{i}|w_{2})$\n",
    "$$\n",
    "\\Rightarrow \\frac{\\lambda_{12}}{\\sqrt{2\\pi\\sigma_{1j}^{2}}}e^{-\\frac{x[j]-m_{1j}^{2}}{2\\sigma_{1j}^{2}}} = \\frac{\\lambda_{21}}{\\sqrt{2\\pi\\sigma_{2j}^{2}}}e^{-\\frac{x[j]-m_{2j}^{2}}{2\\sigma_{2j}^{2}}}\n",
    "$$\n",
    "$$\n",
    "\\Rightarrow \\frac{\\lambda_{21}\\sqrt{2\\pi\\sigma_{1j}^{2}}}{\\lambda_{12}\\sqrt{2\\pi\\sigma_{2j}^{2}}} = \\frac{e^{-\\frac{x[j]-m_{1j}^{2}}{2\\sigma_{1j}^{2}}}}{e^{-\\frac{x[j]-m_{2j}^{2}}{2\\sigma_{2j}^{2}}}}\n",
    "$$\n",
    "$$\n",
    "\\Rightarrow \\frac{\\lambda_{21}\\sigma_{1j}}{\\lambda_{12}\\sigma_{2j}} = e^{-\\frac{x[j]-m_{1j}^{2}}{2\\sigma_{1j}^{2}}+\\frac{x[j]-m_{2j}^{2}}{2\\sigma_{2j}^{2}}}\n",
    "$$\n",
    "$$\n",
    "\\Rightarrow x[j] = \\frac{2\\sigma_{1j}^{2}\\sigma_{2j}^{2}ln\\frac{\\lambda_{21}\\sigma_{1j}}{\\lambda_{12}\\sigma_{2j}} - \\sigma_{2j}^{2}m_{1j}^{2} + \\sigma_{1j}^{2}m_{2j}^{2}}{\\sigma_{1j}^{2}-\\sigma_{2j}^{2}}\n",
    "$$"
   ]
  },
  {
   "cell_type": "code",
   "execution_count": 31,
   "id": "3fff3e3e",
   "metadata": {},
   "outputs": [
    {
     "name": "stdout",
     "output_type": "stream",
     "text": [
      "Threshold x0: [-1.15488957 -0.56751227 -0.09526652  0.33524452 -0.21961132]\n"
     ]
    }
   ],
   "source": [
    "# using the above evaluation\n",
    "feature_cnt = 5\n",
    "x0 = np.zeros(feature_cnt)\n",
    "\n",
    "for j in range(feature_cnt):\n",
    "    sigma1j = bc.vars[0][j]\n",
    "    sigma2j = bc.vars[1][j]\n",
    "    lambda12 = 0.5\n",
    "    lambda21 = 1\n",
    "    mu1j = bc.mean[0][j]\n",
    "    mu2j = bc.mean[1][j]\n",
    "    numr = 2*np.power(sigma1j, 2)*np.power(sigma2j, 2)*np.log(lambda21*sigma1j/lambda12*sigma2j) \\\n",
    "            - np.power(sigma2j*mu1j, 2)*np.power(sigma1j*mu2j, 2)\n",
    "    dnmr = np.power(sigma1j, 2)-np.power(sigma2j, 2)\n",
    "    x0[j] = numr/dnmr\n",
    "\n",
    "print(f'Threshold x0: {x0}')"
   ]
  }
 ],
 "metadata": {
  "interpreter": {
   "hash": "00c04d86c0c2026361feab38f47319a2025f138e4e19a681486cac1f5936f67c"
  },
  "kernelspec": {
   "display_name": "Python 3 (ipykernel)",
   "language": "python",
   "name": "python3"
  },
  "language_info": {
   "codemirror_mode": {
    "name": "ipython",
    "version": 3
   },
   "file_extension": ".py",
   "mimetype": "text/x-python",
   "name": "python",
   "nbconvert_exporter": "python",
   "pygments_lexer": "ipython3",
   "version": "3.9.6"
  }
 },
 "nbformat": 4,
 "nbformat_minor": 5
}
