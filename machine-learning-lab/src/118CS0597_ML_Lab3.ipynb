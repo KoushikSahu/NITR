{
 "cells": [
  {
   "cell_type": "code",
   "execution_count": 1,
   "id": "d5e17e5c",
   "metadata": {},
   "outputs": [],
   "source": [
    "# imports\n",
    "import numpy as np\n",
    "import matplotlib.pyplot as plt\n",
    "import pandas as pd\n",
    "from pathlib import Path\n",
    "from sklearn.model_selection import train_test_split\n",
    "from sklearn.metrics import confusion_matrix\n",
    "import seaborn as sn"
   ]
  },
  {
   "cell_type": "code",
   "execution_count": 2,
   "id": "d17c841c",
   "metadata": {},
   "outputs": [],
   "source": [
    "class HelperFunctions:\n",
    "    @staticmethod\n",
    "    def covariance_matrix2x2d(sigma1, sigma2, sigma12):\n",
    "        return np.array([[sigma1**2, sigma12], [sigma12, sigma2**2]])\n",
    "    \n",
    "    @staticmethod\n",
    "    def column_matrix(*args):\n",
    "        return np.expand_dims(np.array(args), axis=0).T"
   ]
  },
  {
   "cell_type": "markdown",
   "id": "9d6764ca",
   "metadata": {},
   "source": [
    "# Problem 1"
   ]
  },
  {
   "cell_type": "code",
   "execution_count": 3,
   "id": "426ec6c2",
   "metadata": {},
   "outputs": [],
   "source": [
    "def build_confusion_matrix(preds, targ):\n",
    "    tp = 0\n",
    "    tn = 0\n",
    "    fp = 0\n",
    "    fn = 0\n",
    "    for i in range(preds.shape[0]):\n",
    "        if preds[i] == targ[i]:\n",
    "            if preds[i] == 1:\n",
    "                tp += 1\n",
    "            else:\n",
    "                tn += 1\n",
    "        else:\n",
    "            if preds[i] == 1:\n",
    "                fp += 1\n",
    "            else:\n",
    "                fn += 1\n",
    "    return tp, tn, fp, fn"
   ]
  },
  {
   "cell_type": "markdown",
   "id": "8c35ead9",
   "metadata": {},
   "source": [
    "## Using data from problem 2 of lab-2"
   ]
  },
  {
   "cell_type": "code",
   "execution_count": 4,
   "id": "7b86eb1b",
   "metadata": {},
   "outputs": [],
   "source": [
    "def describe_result(tp, tn, fp, fn, total):\n",
    "    accuracy = (tp+tn)/total\n",
    "    precision = tp/(tp+fp)\n",
    "    recall = tp/(tp+fn)\n",
    "    f1score = (2*precision*recall) / (precision+recall)\n",
    "    return accuracy, precision, recall, f1score"
   ]
  },
  {
   "cell_type": "code",
   "execution_count": 5,
   "id": "0bb812a0",
   "metadata": {},
   "outputs": [],
   "source": [
    "class Problem2:\n",
    "    n1 = 250\n",
    "    n2 = 500\n",
    "    m1 = np.array([0, 0, 0, 0, 0])\n",
    "    m2 = np.array([0, 0, 0, 0, 0])\n",
    "    s1 = np.array([ \\\n",
    "        [0.8, 0.2, 0.1, 0.05, 0.01],\n",
    "        [0.2, 0.7, 0.1, 0.03, 0.02],\n",
    "        [0.1, 0.1, 0.8, 0.02, 0.01],\n",
    "        [0.05, 0.03, 0.02, 0.9, 0.01],\n",
    "        [0.01, 0.02, 0.01, 0.01, 0.8] \\\n",
    "    ])\n",
    "    s2 = np.array([ \\\n",
    "        [0.9, 0.1, 0.05, 0.02, 0.01],\n",
    "        [0.1, 0.8, 0.1, 0.02, 0.02],\n",
    "        [0.05, 0.1, 0.7, 0.02, 0.01],\n",
    "        [0.02, 0.02, 0.02, 0.6, 0.02],\n",
    "        [0.01, 0.02, 0.01, 0.02, 0.7] \\\n",
    "    ])"
   ]
  },
  {
   "cell_type": "code",
   "execution_count": 6,
   "id": "e052e07c",
   "metadata": {},
   "outputs": [
    {
     "name": "stdout",
     "output_type": "stream",
     "text": [
      "(250, 5) (250, 5)\n"
     ]
    }
   ],
   "source": [
    "x1 = np.random.multivariate_normal(Problem2.m1, Problem2.s1, Problem2.n1)\n",
    "x2 = np.random.multivariate_normal(Problem2.m2, Problem2.s2, Problem2.n1)\n",
    "print(x1.shape, x2.shape)"
   ]
  },
  {
   "cell_type": "code",
   "execution_count": 7,
   "id": "f815c427",
   "metadata": {},
   "outputs": [],
   "source": [
    "class BayesClassifier:\n",
    "    def __init__(self, data, probs):\n",
    "        self.data = data\n",
    "        self.probs = probs\n",
    "        self.mean = list()\n",
    "        self.vars = list()\n",
    "        for class_data in self.data:\n",
    "            self.mean.append(np.mean(class_data, axis=0))\n",
    "            self.vars.append(np.var(class_data, axis=0))\n",
    "        self.n_classes = len(self.mean)\n",
    "    \n",
    "    def predict(self, data_pts):\n",
    "        preds = list()\n",
    "        for data_pt in data_pts:\n",
    "            probs = list()\n",
    "            for c in range(self.n_classes):\n",
    "                prob = 1\n",
    "                for f in range(data_pt.shape[0]):\n",
    "                    prob *= 1/(2*np.pi*(self.vars[c][f]**2))\n",
    "                    prob *= np.exp(-1*((data_pt[f]-self.mean[c][f])**2)/(2*self.vars[c][f]**2))\n",
    "                prob *= self.probs[c]\n",
    "                probs.append(prob)\n",
    "            preds.append(np.argmax(probs))\n",
    "        return np.expand_dims(np.array(preds), axis=1)\n",
    "\n",
    "    def accuracy(self, data_pts, data_label):\n",
    "        n = data_pts.shape[0]\n",
    "        preds = self.predict(data_pts)\n",
    "        return (preds==data_label).sum() / n"
   ]
  },
  {
   "cell_type": "code",
   "execution_count": 8,
   "id": "3a79be63",
   "metadata": {},
   "outputs": [],
   "source": [
    "bc = BayesClassifier([x1, x2], [0.5, 0.5])"
   ]
  },
  {
   "cell_type": "code",
   "execution_count": 9,
   "id": "c02d01c1",
   "metadata": {},
   "outputs": [
    {
     "name": "stdout",
     "output_type": "stream",
     "text": [
      "(1000, 5)\n",
      "(1000, 1)\n"
     ]
    }
   ],
   "source": [
    "# building testset\n",
    "test_data = np.vstack(\n",
    "    (\n",
    "        np.random.multivariate_normal(Problem2.m1, Problem2.s1, Problem2.n2),\n",
    "        np.random.multivariate_normal(Problem2.m2, Problem2.s2, Problem2.n2)\n",
    "    )\n",
    ")\n",
    "\n",
    "test_label = np.vstack(\n",
    "    (\n",
    "        np.zeros((500, 1)),\n",
    "        np.ones((500, 1))\n",
    "    )\n",
    ")\n",
    "\n",
    "print(test_data.shape)\n",
    "print(test_label.shape)"
   ]
  },
  {
   "cell_type": "code",
   "execution_count": 10,
   "id": "4ac1eea1",
   "metadata": {},
   "outputs": [],
   "source": [
    "preds = bc.predict(test_data)\n",
    "tp, tn, fp, fn = build_confusion_matrix(preds, test_label)\n",
    "total = test_data.shape[0]\n",
    "accuracy, precision, recall, f1score = describe_result(tp, tn, fp, fn, total)"
   ]
  },
  {
   "cell_type": "code",
   "execution_count": 11,
   "id": "e03ac926",
   "metadata": {},
   "outputs": [
    {
     "data": {
      "image/png": "[encoded data removed]",
      "text/plain": [
       "<Figure size 432x288 with 2 Axes>"
      ]
     },
     "metadata": {
      "needs_background": "light"
     },
     "output_type": "display_data"
    }
   ],
   "source": [
    "columns = range(2)\n",
    "cnfs_mat = confusion_matrix(preds, test_label)\n",
    "df = pd.DataFrame(cnfs_mat, columns=columns, index=columns)\n",
    "ax = sn.heatmap(df, cmap='Oranges', annot=True, fmt='g')\n",
    "ax.invert_yaxis()"
   ]
  },
  {
   "cell_type": "code",
   "execution_count": 12,
   "id": "0b2de4d3",
   "metadata": {},
   "outputs": [
    {
     "name": "stdout",
     "output_type": "stream",
     "text": [
      "true positive: 324\n",
      "true negative: 201\n",
      "false positive: 299\n",
      "false negative: 176\n",
      "accuracy: 0.525\n",
      "precision: 0.5200642054574639\n",
      "recall: 0.648\n",
      "f1score: 0.5770258236865539\n"
     ]
    }
   ],
   "source": [
    "print(f'true positive: {tp}')\n",
    "print(f'true negative: {tn}')\n",
    "print(f'false positive: {fp}')\n",
    "print(f'false negative: {fn}')\n",
    "print(f'accuracy: {accuracy}')\n",
    "print(f'precision: {precision}')\n",
    "print(f'recall: {recall}')\n",
    "print(f'f1score: {f1score}')"
   ]
  },
  {
   "cell_type": "markdown",
   "id": "437c3590",
   "metadata": {},
   "source": [
    "## Using data from problem 3 of lab-2"
   ]
  },
  {
   "cell_type": "code",
   "execution_count": 13,
   "id": "0e11b9fd",
   "metadata": {},
   "outputs": [],
   "source": [
    "class Problem3:\n",
    "    p1 = 0.6\n",
    "    p2 = 0.4\n",
    "    m1 = np.array([0, 0])\n",
    "    m2 = np.array([1, 2])\n",
    "    s = np.array(\n",
    "        [\n",
    "            [0.8, 0.2],\n",
    "            [0.2, 0.8]\n",
    "        ]\n",
    "    )\n",
    "    n1 = 500\n",
    "    n2 = 1500"
   ]
  },
  {
   "cell_type": "code",
   "execution_count": 14,
   "id": "ec59f703",
   "metadata": {},
   "outputs": [],
   "source": [
    "train_data = list()\n",
    "train_data.append(np.random.multivariate_normal(Problem3.m1, Problem3.s, Problem3.n1))\n",
    "train_data.append(np.random.multivariate_normal(Problem3.m2, Problem3.s, Problem3.n1))\n",
    "\n",
    "test_data = np.vstack(\n",
    "    (\n",
    "        np.random.multivariate_normal(Problem3.m1, Problem3.s, Problem3.n2),\n",
    "        np.random.multivariate_normal(Problem3.m2, Problem3.s, Problem3.n2)\n",
    "    )\n",
    ")\n",
    "test_label = np.vstack(\n",
    "    (\n",
    "        np.zeros((Problem3.n2, 1)),\n",
    "        np.ones((Problem3.n2, 1))\n",
    "    )\n",
    ")"
   ]
  },
  {
   "cell_type": "code",
   "execution_count": 15,
   "id": "4554a135",
   "metadata": {},
   "outputs": [],
   "source": [
    "bc = BayesClassifier(train_data, [Problem3.p1, Problem3.p2])"
   ]
  },
  {
   "cell_type": "code",
   "execution_count": 16,
   "id": "3d28a3fc",
   "metadata": {},
   "outputs": [],
   "source": [
    "preds = bc.predict(test_data)\n",
    "tp, tn, fp, fn = build_confusion_matrix(preds, test_label)\n",
    "total = test_data.shape[0]\n",
    "accuracy, precision, recall, f1score = describe_result(tp, tn, fp, fn, total)"
   ]
  },
  {
   "cell_type": "code",
   "execution_count": 17,
   "id": "cfd22494",
   "metadata": {},
   "outputs": [
    {
     "data": {
      "image/png": "[encoded data removed]",
      "text/plain": [
       "<Figure size 432x288 with 2 Axes>"
      ]
     },
     "metadata": {
      "needs_background": "light"
     },
     "output_type": "display_data"
    }
   ],
   "source": [
    "columns = range(2)\n",
    "cnfs_mat = confusion_matrix(preds, test_label)\n",
    "df = pd.DataFrame(cnfs_mat, columns=columns, index=columns)\n",
    "ax = sn.heatmap(df, cmap='Oranges', annot=True, fmt='g')\n",
    "ax.invert_yaxis()"
   ]
  },
  {
   "cell_type": "code",
   "execution_count": 18,
   "id": "577f5c64",
   "metadata": {},
   "outputs": [
    {
     "name": "stdout",
     "output_type": "stream",
     "text": [
      "true positive: 1267\n",
      "true negative: 1344\n",
      "false positive: 156\n",
      "false negative: 233\n",
      "accuracy: 0.8703333333333333\n",
      "precision: 0.8903724525650035\n",
      "recall: 0.8446666666666667\n",
      "f1score: 0.8669175504618543\n"
     ]
    }
   ],
   "source": [
    "print(f'true positive: {tp}')\n",
    "print(f'true negative: {tn}')\n",
    "print(f'false positive: {fp}')\n",
    "print(f'false negative: {fn}')\n",
    "print(f'accuracy: {accuracy}')\n",
    "print(f'precision: {precision}')\n",
    "print(f'recall: {recall}')\n",
    "print(f'f1score: {f1score}')"
   ]
  },
  {
   "cell_type": "markdown",
   "id": "a0a99fbc",
   "metadata": {},
   "source": [
    "## Using data from problem 4 of lab-2"
   ]
  },
  {
   "cell_type": "code",
   "execution_count": 19,
   "id": "8323a249",
   "metadata": {},
   "outputs": [],
   "source": [
    "class Config:\n",
    "    iris_datapath = Path('../data/iris.data')"
   ]
  },
  {
   "cell_type": "code",
   "execution_count": 20,
   "id": "c236666f",
   "metadata": {},
   "outputs": [],
   "source": [
    "iris_dataframe = pd.read_csv(Config.iris_datapath, \n",
    "                             names=['sepal_length', 'sepal_width', 'petal_length', 'petal_width', 'class'])"
   ]
  },
  {
   "cell_type": "code",
   "execution_count": 21,
   "id": "02181170",
   "metadata": {},
   "outputs": [],
   "source": [
    "class_encode = {\n",
    "    'Iris-virginica': 0,\n",
    "    'Iris-setosa': 1,\n",
    "    'Iris-versicolor': 2\n",
    "}"
   ]
  },
  {
   "cell_type": "code",
   "execution_count": 22,
   "id": "0b0ceccd",
   "metadata": {},
   "outputs": [],
   "source": [
    "iris_dataframe['class'] = [class_encode[i] for i in iris_dataframe['class']]"
   ]
  },
  {
   "cell_type": "code",
   "execution_count": 23,
   "id": "21f113ea",
   "metadata": {},
   "outputs": [],
   "source": [
    "train_data, test_data = train_test_split(iris_dataframe, test_size=0.5, shuffle=True, stratify=iris_dataframe['class'])\n",
    "train_data.reset_index(drop=False, inplace=True)\n",
    "test_data.reset_index(drop=False, inplace=True)"
   ]
  },
  {
   "cell_type": "code",
   "execution_count": 24,
   "id": "9954319c",
   "metadata": {},
   "outputs": [],
   "source": [
    "class_data = [\n",
    "    train_data[train_data['class']==0].reset_index(drop=True),\n",
    "    train_data[train_data['class']==1].reset_index(drop=True),\n",
    "    train_data[train_data['class']==2].reset_index(drop=True)\n",
    "]\n",
    "for df in class_data:\n",
    "    df.drop(columns=['class'], inplace=True)\n",
    "probs = [0.33, 0.33, 0.33]"
   ]
  },
  {
   "cell_type": "code",
   "execution_count": 25,
   "id": "c0e828a8",
   "metadata": {},
   "outputs": [],
   "source": [
    "bc = BayesClassifier(class_data, probs)"
   ]
  },
  {
   "cell_type": "code",
   "execution_count": 26,
   "id": "97ca293b",
   "metadata": {},
   "outputs": [],
   "source": [
    "# considering only 2 classes of iris flowers\n",
    "preds = bc.predict(test_data.drop(columns=['class']).to_numpy())\n",
    "test_label = np.expand_dims(test_data['class'].to_numpy(), axis=1)\n",
    "tp, tn, fp, fn = build_confusion_matrix(preds, test_label)\n",
    "total = test_data.shape[0]\n",
    "accuracy, precision, recall, f1score = describe_result(tp, tn, fp, fn, total)"
   ]
  },
  {
   "cell_type": "code",
   "execution_count": 27,
   "id": "8ef346fd",
   "metadata": {},
   "outputs": [
    {
     "data": {
      "image/png": "[encoded data removed]",
      "text/plain": [
       "<Figure size 432x288 with 2 Axes>"
      ]
     },
     "metadata": {
      "needs_background": "light"
     },
     "output_type": "display_data"
    }
   ],
   "source": [
    "# considering all the classes of iris flowers\n",
    "columns = range(3)\n",
    "cnfs_mat = confusion_matrix(preds, test_label)\n",
    "df = pd.DataFrame(cnfs_mat, columns=columns, index=columns)\n",
    "ax = sn.heatmap(df, cmap='Oranges', annot=True, fmt='g')\n",
    "ax.invert_yaxis()"
   ]
  },
  {
   "cell_type": "code",
   "execution_count": 28,
   "id": "6567860b",
   "metadata": {},
   "outputs": [
    {
     "name": "stdout",
     "output_type": "stream",
     "text": [
      "true positive: 25\n",
      "true negative: 43\n",
      "false positive: 0\n",
      "false negative: 7\n",
      "accuracy: 0.9066666666666666\n",
      "precision: 1.0\n",
      "recall: 0.78125\n",
      "f1score: 0.8771929824561403\n"
     ]
    }
   ],
   "source": [
    "# considering only two classes of iris flowers\n",
    "print(f'true positive: {tp}')\n",
    "print(f'true negative: {tn}')\n",
    "print(f'false positive: {fp}')\n",
    "print(f'false negative: {fn}')\n",
    "print(f'accuracy: {accuracy}')\n",
    "print(f'precision: {precision}')\n",
    "print(f'recall: {recall}')\n",
    "print(f'f1score: {f1score}')"
   ]
  },
  {
   "cell_type": "markdown",
   "id": "4e5033db",
   "metadata": {},
   "source": [
    "# Problem 2"
   ]
  },
  {
   "cell_type": "code",
   "execution_count": 29,
   "id": "462e8fdd",
   "metadata": {},
   "outputs": [],
   "source": [
    "# getting the lab-2 question-2 data and \n",
    "# creating bayes classfier model object\n",
    "x1 = np.random.multivariate_normal(Problem2.m1, Problem2.s1, Problem2.n1)\n",
    "x2 = np.random.multivariate_normal(Problem2.m2, Problem2.s2, Problem2.n1)\n",
    "bc = BayesClassifier([x1, x2], [0.5, 0.5])"
   ]
  },
  {
   "cell_type": "markdown",
   "id": "42d6d311",
   "metadata": {},
   "source": [
    "## for minimum error probability"
   ]
  },
  {
   "cell_type": "markdown",
   "id": "6f8cc221",
   "metadata": {},
   "source": [
    "$$\n",
    "p(x_{j}|w_{i}) = \\frac{1}{\\sqrt{2\\pi\\sigma_{ij}^{2}}}e^{-\\frac{(x[j]-m_{ij})^{2}}{2\\sigma_{ij}^{2}}}\n",
    "$$\n",
    "We need $p(x_{i}|w_{1}) = p(x_{i}|w_{2})$\n",
    "$$\n",
    "\\Rightarrow \\frac{1}{\\sqrt{2\\pi\\sigma_{1j}^{2}}}e^{-\\frac{(x[j]-m_{1j})^{2}}{2\\sigma_{1j}^{2}}} = \\frac{1}{\\sqrt{2\\pi\\sigma_{2j}^{2}}}e^{-\\frac{(x[j]-m_{2j})^{2}}{2\\sigma_{2j}^{2}}}\n",
    "$$\n",
    "$$\n",
    "\\Rightarrow \\frac{\\sqrt{2\\pi\\sigma_{1j}^{2}}}{\\sqrt{2\\pi\\sigma_{2j}^{2}}} = \\frac{e^{-\\frac{(x[j]-m_{1j})^{2}}{2\\sigma_{1j}^{2}}}}{e^{-\\frac{(x[j]-m_{2j})^{2}}{2\\sigma_{2j}^{2}}}}\n",
    "$$\n",
    "$$\n",
    "\\Rightarrow \\frac{\\sigma_{1j}}{\\sigma_{2j}} = e^{-\\frac{(x[j]-m_{1j})^{2}}{2\\sigma_{1j}^{2}}+\\frac{(x[j]-m_{2j})^{2}}{2\\sigma_{2j}^{2}}}\n",
    "$$\n",
    "$$\n",
    "\\Rightarrow ln(\\frac{\\sigma_{1j}}{\\sigma_{2j}}) = -\\frac{(x[j]-m_{1j})^{2}}{2\\sigma_{1j}^{2}}+\\frac{(x[j]-m_{2j})^{2}}{2\\sigma_{2j}^{2}}\n",
    "$$\n",
    "$$\n",
    "\\Rightarrow (\\sigma_{1j}^{2}-\\sigma_{2j}^{2})x_{j}^{2} + (2m_{1j}\\sigma_{2j}^{2} - 2m_{2j}\\sigma_{1j}^{2})x_{j} + \\sigma_{1j}^{2}m_{2j}^{2} - \\sigma_{2j}^{2}m_{1j}^{2} - 2\\sigma_{1j}^{2}\\sigma_{2j}^{2}ln(\\frac{\\sigma_{1j}}{\\sigma_{2j}}) = 0\n",
    "$$"
   ]
  },
  {
   "cell_type": "code",
   "execution_count": 30,
   "id": "53e03757",
   "metadata": {},
   "outputs": [],
   "source": [
    "def quadratic_roots(a, b, c):\n",
    "    numr1 = -b - np.sqrt(b**2 - 4*a*c)\n",
    "    numr2 = -b + np.sqrt(b**2 - 4*a*c)\n",
    "    dnmr = 2*a\n",
    "    return [numr1/dnmr, numr2/dnmr]"
   ]
  },
  {
   "cell_type": "code",
   "execution_count": 31,
   "id": "0b1a90be",
   "metadata": {},
   "outputs": [
    {
     "name": "stdout",
     "output_type": "stream",
     "text": [
      "Threshold x0: [-0.67213811 -0.80159895 -0.58617706 -0.78182201 -0.7847232 ]\n"
     ]
    }
   ],
   "source": [
    "# using the above evaluation\n",
    "feature_cnt = 5\n",
    "x0 = np.zeros(feature_cnt)\n",
    "\n",
    "for j in range(feature_cnt):\n",
    "    sigma1j = bc.vars[0][j]\n",
    "    sigma2j = bc.vars[1][j]\n",
    "    mu1j = bc.mean[0][j]\n",
    "    mu2j = bc.mean[1][j]\n",
    "    a = sigma1j**2 - sigma2j**2\n",
    "    b = 2*mu1j*(sigma2j**2) - 2*mu2j*(sigma1j**2)\n",
    "    c = (sigma1j**2)*(mu2j**2) - (sigma2j**2)*(mu1j**2) - 2*(sigma1j**2)*(sigma2j**2)*np.log(sigma1j/sigma2j)\n",
    "    x0[j] = quadratic_roots(a, b, c)[0]\n",
    "\n",
    "print(f'Threshold x0: {x0}')"
   ]
  },
  {
   "cell_type": "markdown",
   "id": "9db3562d",
   "metadata": {},
   "source": [
    "## for minimum risk"
   ]
  },
  {
   "cell_type": "markdown",
   "id": "1cf95350",
   "metadata": {},
   "source": [
    "$$\n",
    "p(x_{j}|w_{i}) = \\frac{1}{\\sqrt{2\\pi\\sigma_{ij}^{2}}}e^{-\\frac{(x[j]-m_{ij})^{2}}{2\\sigma_{ij}^{2}}}\n",
    "$$\n",
    "We need $\\lambda_{12}p(x_{i}|w_{1}) = \\lambda_{12}p(x_{i}|w_{2})$\n",
    "$$\n",
    "\\Rightarrow \\frac{\\lambda_{12}}{\\sqrt{2\\pi\\sigma_{1j}^{2}}}e^{-\\frac{(x[j]-m_{1j})^{2}}{2\\sigma_{1j}^{2}}} = \\frac{\\lambda_{21}}{\\sqrt{2\\pi\\sigma_{2j}^{2}}}e^{-\\frac{(x[j]-m_{2j})^{2}}{2\\sigma_{2j}^{2}}}\n",
    "$$\n",
    "$$\n",
    "\\Rightarrow \\frac{\\lambda_{21}\\sqrt{2\\pi\\sigma_{1j}^{2}}}{\\lambda_{12}\\sqrt{2\\pi\\sigma_{2j}^{2}}} = \\frac{e^{-\\frac{(x[j]-m_{1j})^{2}}{2\\sigma_{1j}^{2}}}}{e^{-\\frac{(x[j]-m_{2j})^{2}}{2\\sigma_{2j}^{2}}}}\n",
    "$$\n",
    "$$\n",
    "\\Rightarrow \\frac{\\lambda_{21}\\sigma_{1j}}{\\lambda_{12}\\sigma_{2j}} = e^{-\\frac{(x[j]-m_{1j})^{2}}{2\\sigma_{1j}^{2}}+\\frac{(x[j]-m_{2j})^{2}}{2\\sigma_{2j}^{2}}}\n",
    "$$\n",
    "$$\n",
    "\\Rightarrow ln(\\frac{\\lambda_{21}\\sigma_{1j}}{\\lambda_{12}\\sigma_{2j}}) = -\\frac{(x[j]-m_{1j})^{2}}{2\\sigma_{1j}^{2}}+\\frac{(x[j]-m_{2j})^{2}}{2\\sigma_{2j}^{2}}\n",
    "$$\n",
    "$$\n",
    "\\Rightarrow (\\sigma_{1j}^{2}-\\sigma_{2j}^{2})x_{j}^{2} + (2m_{1j}\\sigma_{2j}^{2} - 2m_{2j}\\sigma_{1j}^{2})x_{j} + \\sigma_{1j}^{2}m_{2j}^{2} - \\sigma_{2j}^{2}m_{1j}^{2} - 2\\sigma_{1j}^{2}\\sigma_{2j}^{2}ln(\\frac{\\lambda_{21}\\sigma_{1j}}{\\lambda_{12}\\sigma_{2j}}) = 0\n",
    "$$"
   ]
  },
  {
   "cell_type": "code",
   "execution_count": 32,
   "id": "c1f56161",
   "metadata": {},
   "outputs": [
    {
     "name": "stdout",
     "output_type": "stream",
     "text": [
      "Threshold x0: [-2.11742671 -2.22297589 -2.51653267 -1.32040872 -1.57846629]\n"
     ]
    }
   ],
   "source": [
    "# using the above evaluation\n",
    "feature_cnt = 5\n",
    "x0 = np.zeros(feature_cnt)\n",
    "\n",
    "for j in range(feature_cnt):\n",
    "    sigma1j = bc.vars[0][j]\n",
    "    sigma2j = bc.vars[1][j]\n",
    "    lambda12 = 0.5\n",
    "    lambda21 = 1\n",
    "    mu1j = bc.mean[0][j]\n",
    "    mu2j = bc.mean[1][j]\n",
    "    a = sigma1j**2 - sigma2j**2\n",
    "    b = 2*mu1j*(sigma2j**2) - 2*mu2j*(sigma1j**2)\n",
    "    c = (sigma1j**2)*(mu2j**2) - (sigma2j**2)*(mu1j**2) - 2*(sigma1j**2)*(sigma2j**2)* \\\n",
    "            np.log((lambda21*sigma1j)/(lambda12*sigma2j))\n",
    "    x0[j] = quadratic_roots(a, b, c)[0]\n",
    "\n",
    "print(f'Threshold x0: {x0}')"
   ]
  },
  {
   "cell_type": "markdown",
   "id": "94c71cac",
   "metadata": {},
   "source": [
    "# Problem 3"
   ]
  },
  {
   "cell_type": "code",
   "execution_count": 33,
   "id": "12a497fb",
   "metadata": {},
   "outputs": [],
   "source": [
    "# getting the lab-2 problem-3 test data\n",
    "test_data = np.vstack(\n",
    "    (\n",
    "        np.random.multivariate_normal(Problem3.m1, Problem3.s, Problem3.n2),\n",
    "        np.random.multivariate_normal(Problem3.m2, Problem3.s, Problem3.n2)\n",
    "    )\n",
    ")"
   ]
  },
  {
   "cell_type": "code",
   "execution_count": 34,
   "id": "75836a4b",
   "metadata": {},
   "outputs": [
    {
     "name": "stdout",
     "output_type": "stream",
     "text": [
      "l1: [0.61904408 0.77795517 0.67991009 ... 0.60046253 0.71918458 0.60567113]\n"
     ]
    }
   ],
   "source": [
    "p1 = (1/np.sqrt(1.6*np.pi)) * np.exp(-np.power(test_data[:,0], 2))\n",
    "l1 = 0.6 + p1*0.4\n",
    "print(f'l1: {l1}')"
   ]
  },
  {
   "cell_type": "code",
   "execution_count": 35,
   "id": "1fdab2dc",
   "metadata": {},
   "outputs": [
    {
     "name": "stdout",
     "output_type": "stream",
     "text": [
      "l2: [0.00073871 0.12423247 0.37065183 ... 0.04706466 0.32797085 0.17973186]\n"
     ]
    }
   ],
   "source": [
    "p2 = (1/np.sqrt(0.4*np.pi)) * np.exp(-np.power(test_data[:,0]-1, 2))\n",
    "l2 = 0.7*p2*0.6\n",
    "print(f'l2: {l2}')"
   ]
  }
 ],
 "metadata": {
  "interpreter": {
   "hash": "00c04d86c0c2026361feab38f47319a2025f138e4e19a681486cac1f5936f67c"
  },
  "kernelspec": {
   "display_name": "Python 3 (ipykernel)",
   "language": "python",
   "name": "python3"
  },
  "language_info": {
   "codemirror_mode": {
    "name": "ipython",
    "version": 3
   },
   "file_extension": ".py",
   "mimetype": "text/x-python",
   "name": "python",
   "nbconvert_exporter": "python",
   "pygments_lexer": "ipython3",
   "version": "3.9.6"
  }
 },
 "nbformat": 4,
 "nbformat_minor": 5
}
