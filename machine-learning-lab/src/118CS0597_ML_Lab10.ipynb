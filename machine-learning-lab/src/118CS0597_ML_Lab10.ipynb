{
 "cells": [
  {
   "cell_type": "code",
   "execution_count": 4,
   "metadata": {},
   "outputs": [],
   "source": [
    "import numpy as np\n",
    "import random"
   ]
  },
  {
   "cell_type": "code",
   "execution_count": 34,
   "metadata": {},
   "outputs": [],
   "source": [
    "class Perceptron:\n",
    "    def __init__(self, inp, targ, lr, threshold, verbose=False):\n",
    "        self.inp = inp\n",
    "        self.targ = targ\n",
    "        self.lr = lr\n",
    "        self.threshold = threshold\n",
    "        self.verbose = verbose\n",
    "\n",
    "        # initializing weights\n",
    "        # self.w = np.array([random.randint(-5, 5),\n",
    "                        # random.randint(-5, 5)]) / 10\n",
    "        self.w = np.array([0.3, -0.1])\n",
    "\n",
    "    def _train(self, x, y):\n",
    "        out = np.dot(x, self.w)\n",
    "\n",
    "        # activation\n",
    "        if out >= self.threshold:\n",
    "            out = 1\n",
    "        elif out < self.threshold:\n",
    "            out = 0\n",
    "\n",
    "        # update weight\n",
    "        # error\n",
    "        e = y - out\n",
    "        self.w += self.lr*(x*e)\n",
    "        if self.verbose:\n",
    "            print(f'Error: {e}\\tWeight: {self.w}')\n",
    "\n",
    "    def train(self, n_epochs):\n",
    "        for _ in range(n_epochs):\n",
    "            for i in range(self.inp.shape[0]):\n",
    "                self._train(self.inp[i], self.targ[i])"
   ]
  },
  {
   "cell_type": "code",
   "execution_count": 39,
   "metadata": {},
   "outputs": [
    {
     "name": "stdout",
     "output_type": "stream",
     "text": [
      "X: [[0 0]\n",
      " [0 1]\n",
      " [1 0]\n",
      " [1 1]]\n",
      "y: [0 0 0 1]\n",
      "Error: 0\tWeight: [ 0.3 -0.1]\n",
      "Error: 0\tWeight: [ 0.3 -0.1]\n",
      "Error: -1\tWeight: [ 0.2 -0.1]\n",
      "Error: 1\tWeight: [0.3 0. ]\n",
      "Error: 0\tWeight: [0.3 0. ]\n",
      "Error: 0\tWeight: [0.3 0. ]\n",
      "Error: -1\tWeight: [0.2 0. ]\n",
      "Error: 1\tWeight: [0.3 0.1]\n",
      "Error: 0\tWeight: [0.3 0.1]\n",
      "Error: 0\tWeight: [0.3 0.1]\n",
      "Error: -1\tWeight: [0.2 0.1]\n",
      "Error: 0\tWeight: [0.2 0.1]\n",
      "Error: 0\tWeight: [0.2 0.1]\n",
      "Error: 0\tWeight: [0.2 0.1]\n",
      "Error: 0\tWeight: [0.2 0.1]\n",
      "Error: 0\tWeight: [0.2 0.1]\n",
      "Error: 0\tWeight: [0.2 0.1]\n",
      "Error: 0\tWeight: [0.2 0.1]\n",
      "Error: 0\tWeight: [0.2 0.1]\n",
      "Error: 0\tWeight: [0.2 0.1]\n"
     ]
    }
   ],
   "source": [
    "# generating output for and operator\n",
    "X = list()\n",
    "y = list()\n",
    "\n",
    "for i in range(2):\n",
    "    for j in range(2):\n",
    "        X.append([i, j])\n",
    "\n",
    "for i in range(4):\n",
    "    p, q = X[i]\n",
    "    y.append(p&q)\n",
    "\n",
    "X = np.array(X)\n",
    "y = np.array(y)\n",
    "\n",
    "print(f'X: {X}')\n",
    "print(f'y: {y}')\n",
    "\n",
    "perceptron = Perceptron(inp=X, targ=y, lr=0.1, threshold=0.3, verbose=True)\n",
    "perceptron.train(n_epochs=5)"
   ]
  },
  {
   "cell_type": "code",
   "execution_count": 38,
   "metadata": {},
   "outputs": [
    {
     "name": "stdout",
     "output_type": "stream",
     "text": [
      "X: [[0 0]\n",
      " [0 1]\n",
      " [1 0]\n",
      " [1 1]]\n",
      "y: [0 1 1 1]\n",
      "Error: 0\tWeight: [ 0.3 -0.1]\n",
      "Error: 1\tWeight: [0.3 0. ]\n",
      "Error: 1\tWeight: [0.4 0. ]\n",
      "Error: 0\tWeight: [0.4 0. ]\n",
      "Error: 0\tWeight: [0.4 0. ]\n",
      "Error: 1\tWeight: [0.4 0.1]\n",
      "Error: 0\tWeight: [0.4 0.1]\n",
      "Error: 0\tWeight: [0.4 0.1]\n",
      "Error: 0\tWeight: [0.4 0.1]\n",
      "Error: 1\tWeight: [0.4 0.2]\n",
      "Error: 0\tWeight: [0.4 0.2]\n",
      "Error: 0\tWeight: [0.4 0.2]\n",
      "Error: 0\tWeight: [0.4 0.2]\n",
      "Error: 1\tWeight: [0.4 0.3]\n",
      "Error: 0\tWeight: [0.4 0.3]\n",
      "Error: 0\tWeight: [0.4 0.3]\n",
      "Error: 0\tWeight: [0.4 0.3]\n",
      "Error: 1\tWeight: [0.4 0.4]\n",
      "Error: 0\tWeight: [0.4 0.4]\n",
      "Error: 0\tWeight: [0.4 0.4]\n"
     ]
    }
   ],
   "source": [
    "# generating output for or operator\n",
    "X = list()\n",
    "y = list()\n",
    "\n",
    "for i in range(2):\n",
    "    for j in range(2):\n",
    "        X.append([i, j])\n",
    "\n",
    "for i in range(4):\n",
    "    p, q = X[i]\n",
    "    y.append(p|q)\n",
    "\n",
    "X = np.array(X)\n",
    "y = np.array(y)\n",
    "\n",
    "print(f'X: {X}')\n",
    "print(f'y: {y}')\n",
    "\n",
    "perceptron = Perceptron(inp=X, targ=y, lr=0.1, threshold=0.4, verbose=True)\n",
    "perceptron.train(n_epochs=5)"
   ]
  },
  {
   "cell_type": "code",
   "execution_count": null,
   "metadata": {},
   "outputs": [],
   "source": []
  }
 ],
 "metadata": {
  "interpreter": {
   "hash": "d90e21731e47027cb261ab294c5447b7441db0e8e7a905d8f8c573cb4b0b022d"
  },
  "kernelspec": {
   "display_name": "Python 3.9.7 64-bit ('ml': conda)",
   "language": "python",
   "name": "python3"
  },
  "language_info": {
   "codemirror_mode": {
    "name": "ipython",
    "version": 3
   },
   "file_extension": ".py",
   "mimetype": "text/x-python",
   "name": "python",
   "nbconvert_exporter": "python",
   "pygments_lexer": "ipython3",
   "version": "3.9.7"
  },
  "orig_nbformat": 4
 },
 "nbformat": 4,
 "nbformat_minor": 2
}
