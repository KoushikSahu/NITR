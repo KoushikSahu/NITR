{
 "cells": [
  {
   "cell_type": "markdown",
   "source": [
    "# Reading Data"
   ],
   "metadata": {}
  },
  {
   "cell_type": "code",
   "execution_count": 1,
   "source": [
    "# imports\n",
    "from pathlib import Path\n",
    "import pandas as pd\n",
    "import numpy as np\n",
    "import matplotlib.pyplot as plt"
   ],
   "outputs": [],
   "metadata": {}
  },
  {
   "cell_type": "code",
   "execution_count": 2,
   "source": [
    "# configurations\n",
    "class Config:\n",
    "    iris_datapath = Path('../data/iris.data')"
   ],
   "outputs": [],
   "metadata": {}
  },
  {
   "cell_type": "code",
   "execution_count": 3,
   "source": [
    "# reading the dataset\n",
    "iris_dataframe = pd.read_csv(Config.iris_datapath, \n",
    "                             names=['sepal_length', 'sepal_width', 'petal_length', 'petal_width', 'class'])"
   ],
   "outputs": [],
   "metadata": {}
  },
  {
   "cell_type": "code",
   "execution_count": 4,
   "source": [
    "# printing head\n",
    "iris_dataframe.head()"
   ],
   "outputs": [
    {
     "output_type": "execute_result",
     "data": {
      "text/html": [
       "<div>\n",
       "<style scoped>\n",
       "    .dataframe tbody tr th:only-of-type {\n",
       "        vertical-align: middle;\n",
       "    }\n",
       "\n",
       "    .dataframe tbody tr th {\n",
       "        vertical-align: top;\n",
       "    }\n",
       "\n",
       "    .dataframe thead th {\n",
       "        text-align: right;\n",
       "    }\n",
       "</style>\n",
       "<table border=\"1\" class=\"dataframe\">\n",
       "  <thead>\n",
       "    <tr style=\"text-align: right;\">\n",
       "      <th></th>\n",
       "      <th>sepal_length</th>\n",
       "      <th>sepal_width</th>\n",
       "      <th>petal_length</th>\n",
       "      <th>petal_width</th>\n",
       "      <th>class</th>\n",
       "    </tr>\n",
       "  </thead>\n",
       "  <tbody>\n",
       "    <tr>\n",
       "      <th>0</th>\n",
       "      <td>5.1</td>\n",
       "      <td>3.5</td>\n",
       "      <td>1.4</td>\n",
       "      <td>0.2</td>\n",
       "      <td>Iris-setosa</td>\n",
       "    </tr>\n",
       "    <tr>\n",
       "      <th>1</th>\n",
       "      <td>4.9</td>\n",
       "      <td>3.0</td>\n",
       "      <td>1.4</td>\n",
       "      <td>0.2</td>\n",
       "      <td>Iris-setosa</td>\n",
       "    </tr>\n",
       "    <tr>\n",
       "      <th>2</th>\n",
       "      <td>4.7</td>\n",
       "      <td>3.2</td>\n",
       "      <td>1.3</td>\n",
       "      <td>0.2</td>\n",
       "      <td>Iris-setosa</td>\n",
       "    </tr>\n",
       "    <tr>\n",
       "      <th>3</th>\n",
       "      <td>4.6</td>\n",
       "      <td>3.1</td>\n",
       "      <td>1.5</td>\n",
       "      <td>0.2</td>\n",
       "      <td>Iris-setosa</td>\n",
       "    </tr>\n",
       "    <tr>\n",
       "      <th>4</th>\n",
       "      <td>5.0</td>\n",
       "      <td>3.6</td>\n",
       "      <td>1.4</td>\n",
       "      <td>0.2</td>\n",
       "      <td>Iris-setosa</td>\n",
       "    </tr>\n",
       "  </tbody>\n",
       "</table>\n",
       "</div>"
      ],
      "text/plain": [
       "   sepal_length  sepal_width  petal_length  petal_width        class\n",
       "0           5.1          3.5           1.4          0.2  Iris-setosa\n",
       "1           4.9          3.0           1.4          0.2  Iris-setosa\n",
       "2           4.7          3.2           1.3          0.2  Iris-setosa\n",
       "3           4.6          3.1           1.5          0.2  Iris-setosa\n",
       "4           5.0          3.6           1.4          0.2  Iris-setosa"
      ]
     },
     "metadata": {},
     "execution_count": 4
    }
   ],
   "metadata": {}
  },
  {
   "cell_type": "markdown",
   "source": [
    "# Problem 1"
   ],
   "metadata": {}
  },
  {
   "cell_type": "code",
   "execution_count": 5,
   "source": [
    "classes = list(iris_dataframe['class'].unique())\n",
    "print(f'Classes in iris dataset: {classes}')"
   ],
   "outputs": [
    {
     "output_type": "stream",
     "name": "stdout",
     "text": [
      "Classes in iris dataset: ['Iris-setosa', 'Iris-versicolor', 'Iris-virginica']\n"
     ]
    }
   ],
   "metadata": {}
  },
  {
   "cell_type": "code",
   "execution_count": 6,
   "source": [
    "# lets pick the 'Iris-virginica' class for the problem \n",
    "iris_class = classes[2]\n",
    "print(f'Class picked for the problem: {iris_class}')"
   ],
   "outputs": [
    {
     "output_type": "stream",
     "name": "stdout",
     "text": [
      "Class picked for the problem: Iris-virginica\n"
     ]
    }
   ],
   "metadata": {}
  },
  {
   "cell_type": "code",
   "execution_count": 7,
   "source": [
    "iris_virginica_df = iris_dataframe[iris_dataframe['class'] == iris_class].reset_index(drop=True)\n",
    "iris_virginica_df.head()"
   ],
   "outputs": [
    {
     "output_type": "execute_result",
     "data": {
      "text/html": [
       "<div>\n",
       "<style scoped>\n",
       "    .dataframe tbody tr th:only-of-type {\n",
       "        vertical-align: middle;\n",
       "    }\n",
       "\n",
       "    .dataframe tbody tr th {\n",
       "        vertical-align: top;\n",
       "    }\n",
       "\n",
       "    .dataframe thead th {\n",
       "        text-align: right;\n",
       "    }\n",
       "</style>\n",
       "<table border=\"1\" class=\"dataframe\">\n",
       "  <thead>\n",
       "    <tr style=\"text-align: right;\">\n",
       "      <th></th>\n",
       "      <th>sepal_length</th>\n",
       "      <th>sepal_width</th>\n",
       "      <th>petal_length</th>\n",
       "      <th>petal_width</th>\n",
       "      <th>class</th>\n",
       "    </tr>\n",
       "  </thead>\n",
       "  <tbody>\n",
       "    <tr>\n",
       "      <th>0</th>\n",
       "      <td>6.3</td>\n",
       "      <td>3.3</td>\n",
       "      <td>6.0</td>\n",
       "      <td>2.5</td>\n",
       "      <td>Iris-virginica</td>\n",
       "    </tr>\n",
       "    <tr>\n",
       "      <th>1</th>\n",
       "      <td>5.8</td>\n",
       "      <td>2.7</td>\n",
       "      <td>5.1</td>\n",
       "      <td>1.9</td>\n",
       "      <td>Iris-virginica</td>\n",
       "    </tr>\n",
       "    <tr>\n",
       "      <th>2</th>\n",
       "      <td>7.1</td>\n",
       "      <td>3.0</td>\n",
       "      <td>5.9</td>\n",
       "      <td>2.1</td>\n",
       "      <td>Iris-virginica</td>\n",
       "    </tr>\n",
       "    <tr>\n",
       "      <th>3</th>\n",
       "      <td>6.3</td>\n",
       "      <td>2.9</td>\n",
       "      <td>5.6</td>\n",
       "      <td>1.8</td>\n",
       "      <td>Iris-virginica</td>\n",
       "    </tr>\n",
       "    <tr>\n",
       "      <th>4</th>\n",
       "      <td>6.5</td>\n",
       "      <td>3.0</td>\n",
       "      <td>5.8</td>\n",
       "      <td>2.2</td>\n",
       "      <td>Iris-virginica</td>\n",
       "    </tr>\n",
       "  </tbody>\n",
       "</table>\n",
       "</div>"
      ],
      "text/plain": [
       "   sepal_length  sepal_width  petal_length  petal_width           class\n",
       "0           6.3          3.3           6.0          2.5  Iris-virginica\n",
       "1           5.8          2.7           5.1          1.9  Iris-virginica\n",
       "2           7.1          3.0           5.9          2.1  Iris-virginica\n",
       "3           6.3          2.9           5.6          1.8  Iris-virginica\n",
       "4           6.5          3.0           5.8          2.2  Iris-virginica"
      ]
     },
     "metadata": {},
     "execution_count": 7
    }
   ],
   "metadata": {}
  },
  {
   "cell_type": "code",
   "execution_count": 8,
   "source": [
    "# lets pick the attribute petal_length for this problem\n",
    "iris_attr = iris_virginica_df.columns[2]\n",
    "petal_length_column = iris_dataframe[iris_attr]\n",
    "print(f'Attribute picked for this problem: {iris_attr}')"
   ],
   "outputs": [
    {
     "output_type": "stream",
     "name": "stdout",
     "text": [
      "Attribute picked for this problem: petal_length\n"
     ]
    }
   ],
   "metadata": {}
  },
  {
   "cell_type": "code",
   "execution_count": 9,
   "source": [
    "def evaluate_mean(vals):\n",
    "    count = vals.shape[0]\n",
    "    summation = 0\n",
    "    \n",
    "    for i in vals:\n",
    "        summation += i\n",
    "        \n",
    "    mean = summation / count\n",
    "    return mean"
   ],
   "outputs": [],
   "metadata": {}
  },
  {
   "cell_type": "code",
   "execution_count": 10,
   "source": [
    "def evaluate_std(vals):\n",
    "    count = vals.shape[0]\n",
    "    mean = evaluate_mean(vals)\n",
    "    variance = 0\n",
    "    \n",
    "    for i in vals:\n",
    "        variance += (i-mean)**2\n",
    "        \n",
    "    variance /= count\n",
    "    std = np.sqrt(variance)\n",
    "    return std"
   ],
   "outputs": [],
   "metadata": {}
  },
  {
   "cell_type": "code",
   "execution_count": 11,
   "source": [
    "# calculating mean\n",
    "petal_length_mean = evaluate_mean(petal_length_column)\n",
    "print(f'Mean of petal length: {petal_length_mean}')"
   ],
   "outputs": [
    {
     "output_type": "stream",
     "name": "stdout",
     "text": [
      "Mean of petal length: 3.7586666666666693\n"
     ]
    }
   ],
   "metadata": {}
  },
  {
   "cell_type": "code",
   "execution_count": 12,
   "source": [
    "# calculating standard deviation\n",
    "petal_length_std = evaluate_std(petal_length_column)\n",
    "print(f'Standard deviation of petal length: {petal_length_std}')"
   ],
   "outputs": [
    {
     "output_type": "stream",
     "name": "stdout",
     "text": [
      "Standard deviation of petal length: 1.7585291834055201\n"
     ]
    }
   ],
   "metadata": {}
  },
  {
   "cell_type": "code",
   "execution_count": 13,
   "source": [
    "def normal_distribution(x, mean, std):\n",
    "    return 1/(std*np.sqrt(np.pi)) * np.power(np.e, (-1/2)*(((x-mean)/std)**2))"
   ],
   "outputs": [],
   "metadata": {}
  },
  {
   "cell_type": "code",
   "execution_count": 14,
   "source": [
    "# ploting normal distribution\n",
    "low_x = -5\n",
    "high_x = 15\n",
    "plot_pt_count = int(1e3)\n",
    "delta = (high_x-low_x) / plot_pt_count\n",
    "\n",
    "norm_distr_values = list()\n",
    "plot_pts = list()\n",
    "while low_x <= high_x:\n",
    "    plot_pts.append(low_x)\n",
    "    norm_distr_values.append(normal_distribution(low_x, petal_length_mean, petal_length_std))\n",
    "    low_x += delta\n",
    "    \n",
    "plt.plot(plot_pts, norm_distr_values)\n",
    "plt.xlabel('x-axis')\n",
    "plt.ylabel('y-axis')\n",
    "plt.show()"
   ],
   "outputs": [
    {
     "output_type": "display_data",
     "data": {
      "image/png": "[encoded data removed]",
      "text/plain": [
       "<Figure size 432x288 with 1 Axes>"
      ]
     },
     "metadata": {
      "needs_background": "light"
     }
    }
   ],
   "metadata": {}
  },
  {
   "cell_type": "code",
   "execution_count": 15,
   "source": [
    "# finding minimum and maximum\n",
    "min_petal_length = min(petal_length_column)\n",
    "max_petal_length = max(petal_length_column)"
   ],
   "outputs": [],
   "metadata": {}
  },
  {
   "cell_type": "code",
   "execution_count": 16,
   "source": [
    "def uniform_distribution(x, min_val, max_val):\n",
    "    if min_val < x and x < max_val:\n",
    "        return 1 / (max_val-min_val)\n",
    "    return 0"
   ],
   "outputs": [],
   "metadata": {}
  },
  {
   "cell_type": "code",
   "execution_count": 17,
   "source": [
    "# ploting normal distribution\n",
    "low_x = -5\n",
    "high_x = 15\n",
    "plot_pt_count = int(1e3)\n",
    "delta = (high_x-low_x) / plot_pt_count\n",
    "\n",
    "uniform_distr_values = list()\n",
    "plot_pts = list()\n",
    "while low_x <= high_x:\n",
    "    plot_pts.append(low_x)\n",
    "    uniform_distr_values.append(uniform_distribution(low_x, min_petal_length, max_petal_length))\n",
    "    low_x += delta\n",
    "    \n",
    "plt.plot(plot_pts, uniform_distr_values)\n",
    "plt.xlabel('x-axis')\n",
    "plt.ylabel('y-axis')\n",
    "plt.show()"
   ],
   "outputs": [
    {
     "output_type": "display_data",
     "data": {
      "image/png": "[encoded data removed]",
      "text/plain": [
       "<Figure size 432x288 with 1 Axes>"
      ]
     },
     "metadata": {
      "needs_background": "light"
     }
    }
   ],
   "metadata": {}
  },
  {
   "cell_type": "code",
   "execution_count": 18,
   "source": [
    "def exponential_distribution(x, λ):\n",
    "    if x >= 0:\n",
    "        return λ * np.power(np.e, -λ*x)\n",
    "    return 0"
   ],
   "outputs": [],
   "metadata": {}
  },
  {
   "cell_type": "code",
   "execution_count": 19,
   "source": [
    "# ploting exponential distribution\n",
    "low_x = -5\n",
    "high_x = 30\n",
    "plot_pt_count = int(1e3)\n",
    "delta = (high_x-low_x) / plot_pt_count\n",
    "λ = 1/petal_length_mean\n",
    "\n",
    "expo_distr_values = list()\n",
    "plot_pts = list()\n",
    "while low_x <= high_x:\n",
    "    plot_pts.append(low_x)\n",
    "    expo_distr_values.append(exponential_distribution(low_x, λ))\n",
    "    low_x += delta\n",
    "    \n",
    "plt.plot(plot_pts, expo_distr_values)\n",
    "plt.xlabel('x-axis')\n",
    "plt.ylabel('y-axis')\n",
    "plt.show()"
   ],
   "outputs": [
    {
     "output_type": "display_data",
     "data": {
      "image/png": "[encoded data removed]",
      "text/plain": [
       "<Figure size 432x288 with 1 Axes>"
      ]
     },
     "metadata": {
      "needs_background": "light"
     }
    }
   ],
   "metadata": {}
  },
  {
   "cell_type": "code",
   "execution_count": 20,
   "source": [
    "def factorial(x):\n",
    "    if x==1 or x==0:\n",
    "        return 1\n",
    "    return x*factorial(x-1)"
   ],
   "outputs": [],
   "metadata": {}
  },
  {
   "cell_type": "code",
   "execution_count": 21,
   "source": [
    "def poisson_distribution(x, λ):\n",
    "    return (np.power(np.e, -λ)*np.power(λ, x)) / factorial(np.floor(x))"
   ],
   "outputs": [],
   "metadata": {}
  },
  {
   "cell_type": "code",
   "execution_count": 22,
   "source": [
    "# ploting exponential distribution\n",
    "low_x = 0\n",
    "high_x = 30\n",
    "plot_pt_count = int(1e3)\n",
    "delta = (high_x-low_x) / plot_pt_count\n",
    "λ = 1/petal_length_mean\n",
    "\n",
    "poisson_distr_values = list()\n",
    "plot_pts = list()\n",
    "while low_x <= high_x:\n",
    "    plot_pts.append(low_x)\n",
    "    poisson_distr_values.append(poisson_distribution(low_x, λ))\n",
    "    low_x += delta\n",
    "    \n",
    "plt.plot(plot_pts, poisson_distr_values)\n",
    "plt.xlabel('x-axis')\n",
    "plt.ylabel('y-axis')\n",
    "plt.show()"
   ],
   "outputs": [
    {
     "output_type": "display_data",
     "data": {
      "image/png": "[encoded data removed]",
      "text/plain": [
       "<Figure size 432x288 with 1 Axes>"
      ]
     },
     "metadata": {
      "needs_background": "light"
     }
    }
   ],
   "metadata": {}
  },
  {
   "cell_type": "markdown",
   "source": [
    "# Problem 2"
   ],
   "metadata": {}
  },
  {
   "cell_type": "markdown",
   "source": [
    "## Mean"
   ],
   "metadata": {}
  },
  {
   "cell_type": "code",
   "execution_count": 23,
   "source": [
    "# using function written in problem 1\n",
    "petal_length_mean = evaluate_mean(petal_length_column)\n",
    "print(f'Mean petal length: {petal_length_mean}')"
   ],
   "outputs": [
    {
     "output_type": "stream",
     "name": "stdout",
     "text": [
      "Mean petal length: 3.7586666666666693\n"
     ]
    }
   ],
   "metadata": {}
  },
  {
   "cell_type": "code",
   "execution_count": 24,
   "source": [
    "# Median\n",
    "def evaluate_median(vals):\n",
    "    n = vals.shape[0]\n",
    "    if n%2==1:\n",
    "        return vals.iloc[n//2]\n",
    "    return (vals.iloc[n//2] + vals[(n+1)//2]) / 2"
   ],
   "outputs": [],
   "metadata": {}
  },
  {
   "cell_type": "code",
   "execution_count": 25,
   "source": [
    "petal_length_median = evaluate_median(petal_length_column)\n",
    "print(f'Median petal length: {petal_length_median}')"
   ],
   "outputs": [
    {
     "output_type": "stream",
     "name": "stdout",
     "text": [
      "Median petal length: 4.4\n"
     ]
    }
   ],
   "metadata": {}
  },
  {
   "cell_type": "code",
   "execution_count": 26,
   "source": [
    "petal_length_std = evaluate_std(petal_length_column)\n",
    "print(f'Standard deviation petal length: {petal_length_std}')"
   ],
   "outputs": [
    {
     "output_type": "stream",
     "name": "stdout",
     "text": [
      "Standard deviation petal length: 1.7585291834055201\n"
     ]
    }
   ],
   "metadata": {}
  },
  {
   "cell_type": "code",
   "execution_count": 27,
   "source": [
    "petal_length_variance = petal_length_std**2\n",
    "print(f'petal length: {petal_length_variance}')"
   ],
   "outputs": [
    {
     "output_type": "stream",
     "name": "stdout",
     "text": [
      "petal length: 3.0924248888888854\n"
     ]
    }
   ],
   "metadata": {}
  },
  {
   "cell_type": "code",
   "execution_count": 28,
   "source": [
    "petal_length_skewness = (3*(petal_length_median-petal_length_mean)) / petal_length_std\n",
    "print(f'Skewness petal length: {petal_length_skewness}')"
   ],
   "outputs": [
    {
     "output_type": "stream",
     "name": "stdout",
     "text": [
      "Skewness petal length: 1.0940961447532118\n"
     ]
    }
   ],
   "metadata": {}
  },
  {
   "cell_type": "code",
   "execution_count": 29,
   "source": [
    "count = petal_length_column.shape[0]\n",
    "kurtosis = 0\n",
    "\n",
    "for i in petal_length_column:\n",
    "    kurtosis += ((i-petal_length_mean)/petal_length_std)**4\n",
    "\n",
    "kurtosis /= count\n",
    "\n",
    "print(f'Kurtosis petal length: {kurtosis}')"
   ],
   "outputs": [
    {
     "output_type": "stream",
     "name": "stdout",
     "text": [
      "Kurtosis petal length: 1.6046406978602903\n"
     ]
    }
   ],
   "metadata": {}
  },
  {
   "cell_type": "markdown",
   "source": [
    "# Problem 3"
   ],
   "metadata": {}
  },
  {
   "cell_type": "code",
   "execution_count": 30,
   "source": [
    "mean, variance = 0, 1\n",
    "\n",
    "data = np.random.normal(mean, variance, 1000)\n",
    "count, bins, ignored = plt.hist(data, 20, density=1)\n",
    "plt.plot(bins, \n",
    "    1/(variance * np.sqrt(2 * np.pi)) * np.exp( - (bins - mean)**2 / (2 * variance**2) ),\n",
    "    linewidth=2,\n",
    "    color='r')\n",
    "\n",
    "plt.title('Normal Distribution')\n",
    "plt.show()"
   ],
   "outputs": [
    {
     "output_type": "display_data",
     "data": {
      "image/png": "[encoded data removed]",
      "text/plain": [
       "<Figure size 432x288 with 1 Axes>"
      ]
     },
     "metadata": {
      "needs_background": "light"
     }
    }
   ],
   "metadata": {}
  }
 ],
 "metadata": {
  "kernelspec": {
   "name": "python3",
   "display_name": "Python 3.9.6 64-bit ('ml': conda)"
  },
  "language_info": {
   "codemirror_mode": {
    "name": "ipython",
    "version": 3
   },
   "file_extension": ".py",
   "mimetype": "text/x-python",
   "name": "python",
   "nbconvert_exporter": "python",
   "pygments_lexer": "ipython3",
   "version": "3.9.6"
  },
  "interpreter": {
   "hash": "00c04d86c0c2026361feab38f47319a2025f138e4e19a681486cac1f5936f67c"
  }
 },
 "nbformat": 4,
 "nbformat_minor": 5
}