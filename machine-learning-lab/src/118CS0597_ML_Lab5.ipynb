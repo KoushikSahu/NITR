{
 "cells": [
  {
   "cell_type": "code",
   "execution_count": 1,
   "id": "16f5c8fe",
   "metadata": {},
   "outputs": [],
   "source": [
    "# imports\n",
    "from pathlib import Path\n",
    "import pandas as pd\n",
    "import numpy as np\n",
    "from tqdm import tqdm\n",
    "from sklearn.model_selection import train_test_split\n",
    "from scipy import stats"
   ]
  },
  {
   "cell_type": "code",
   "execution_count": 2,
   "id": "46ff0741",
   "metadata": {},
   "outputs": [],
   "source": [
    "class Config:\n",
    "    data_path = Path('./machine.csv')"
   ]
  },
  {
   "cell_type": "code",
   "execution_count": 3,
   "id": "37fea2b4",
   "metadata": {},
   "outputs": [],
   "source": [
    "class HelperFunctions:\n",
    "    @staticmethod\n",
    "    def mean(x):\n",
    "        n = x.shape[0]\n",
    "        return x.sum() / n\n",
    "    \n",
    "    @staticmethod\n",
    "    def std(x):\n",
    "        n = x.shape[0]\n",
    "        x_mean = HelperFunctions.mean(x)\n",
    "        return np.sqrt(1/n*(((x-x_mean)**2).sum()))\n",
    "    \n",
    "    @staticmethod\n",
    "    def covariance(x, y):\n",
    "        n = x.shape[0]\n",
    "        xy_mean = np.multiply(x, y).sum() / n\n",
    "        x_mean = HelperFunctions.mean(x)\n",
    "        y_mean = HelperFunctions.mean(y)\n",
    "        return xy_mean - x_mean*y_mean\n",
    "    \n",
    "    @staticmethod\n",
    "    def correlation(x, y):\n",
    "        corr = 0\n",
    "        corr += HelperFunctions.covariance(x, y) \n",
    "        corr /= HelperFunctions.std(x)\n",
    "        corr /= HelperFunctions.std(y)\n",
    "        return corr\n",
    "    \n",
    "    @staticmethod\n",
    "    def correlation_matrix(x):\n",
    "        n = x.shape[1]\n",
    "        cm = [[0 for i in range(n)] for i in range(n)]\n",
    "        for i in range(n):\n",
    "            for j in range(n):\n",
    "                cm[i][j] = HelperFunctions.correlation(x[:, i], x[:, j]) \n",
    "        return cm\n",
    "    \n",
    "    @staticmethod\n",
    "    def conv_sum(x, y):\n",
    "        return (x*y).sum(axis=1)"
   ]
  },
  {
   "cell_type": "code",
   "execution_count": 4,
   "id": "0ed085c5",
   "metadata": {},
   "outputs": [
    {
     "data": {
      "text/html": [
       "<div>\n",
       "<style scoped>\n",
       "    .dataframe tbody tr th:only-of-type {\n",
       "        vertical-align: middle;\n",
       "    }\n",
       "\n",
       "    .dataframe tbody tr th {\n",
       "        vertical-align: top;\n",
       "    }\n",
       "\n",
       "    .dataframe thead th {\n",
       "        text-align: right;\n",
       "    }\n",
       "</style>\n",
       "<table border=\"1\" class=\"dataframe\">\n",
       "  <thead>\n",
       "    <tr style=\"text-align: right;\">\n",
       "      <th></th>\n",
       "      <th>vendor name</th>\n",
       "      <th>Model Name</th>\n",
       "      <th>MYCT</th>\n",
       "      <th>MMIN</th>\n",
       "      <th>MMAX</th>\n",
       "      <th>CACH</th>\n",
       "      <th>CHMIN</th>\n",
       "      <th>CHMAX</th>\n",
       "      <th>PRP</th>\n",
       "    </tr>\n",
       "  </thead>\n",
       "  <tbody>\n",
       "    <tr>\n",
       "      <th>0</th>\n",
       "      <td>adviser</td>\n",
       "      <td>32/60</td>\n",
       "      <td>125</td>\n",
       "      <td>256</td>\n",
       "      <td>6000</td>\n",
       "      <td>256</td>\n",
       "      <td>16</td>\n",
       "      <td>128</td>\n",
       "      <td>198</td>\n",
       "    </tr>\n",
       "    <tr>\n",
       "      <th>1</th>\n",
       "      <td>amdahl</td>\n",
       "      <td>470v/7</td>\n",
       "      <td>29</td>\n",
       "      <td>8000</td>\n",
       "      <td>32000</td>\n",
       "      <td>32</td>\n",
       "      <td>8</td>\n",
       "      <td>32</td>\n",
       "      <td>269</td>\n",
       "    </tr>\n",
       "    <tr>\n",
       "      <th>2</th>\n",
       "      <td>amdahl</td>\n",
       "      <td>470v/7a</td>\n",
       "      <td>29</td>\n",
       "      <td>8000</td>\n",
       "      <td>32000</td>\n",
       "      <td>32</td>\n",
       "      <td>8</td>\n",
       "      <td>32</td>\n",
       "      <td>220</td>\n",
       "    </tr>\n",
       "    <tr>\n",
       "      <th>3</th>\n",
       "      <td>amdahl</td>\n",
       "      <td>470v/7b</td>\n",
       "      <td>29</td>\n",
       "      <td>8000</td>\n",
       "      <td>32000</td>\n",
       "      <td>32</td>\n",
       "      <td>8</td>\n",
       "      <td>32</td>\n",
       "      <td>172</td>\n",
       "    </tr>\n",
       "    <tr>\n",
       "      <th>4</th>\n",
       "      <td>amdahl</td>\n",
       "      <td>470v/7c</td>\n",
       "      <td>29</td>\n",
       "      <td>8000</td>\n",
       "      <td>16000</td>\n",
       "      <td>32</td>\n",
       "      <td>8</td>\n",
       "      <td>16</td>\n",
       "      <td>132</td>\n",
       "    </tr>\n",
       "  </tbody>\n",
       "</table>\n",
       "</div>"
      ],
      "text/plain": [
       "  vendor name Model Name  MYCT  MMIN   MMAX  CACH  CHMIN  CHMAX  PRP\n",
       "0     adviser      32/60   125   256   6000   256     16    128  198\n",
       "1      amdahl     470v/7    29  8000  32000    32      8     32  269\n",
       "2      amdahl    470v/7a    29  8000  32000    32      8     32  220\n",
       "3      amdahl    470v/7b    29  8000  32000    32      8     32  172\n",
       "4      amdahl    470v/7c    29  8000  16000    32      8     16  132"
      ]
     },
     "execution_count": 4,
     "metadata": {},
     "output_type": "execute_result"
    }
   ],
   "source": [
    "machine_df = pd.read_csv(Config.data_path)\n",
    "machine_df.head()"
   ]
  },
  {
   "cell_type": "code",
   "execution_count": 5,
   "id": "914b2096",
   "metadata": {},
   "outputs": [],
   "source": [
    "class MultipleLinearRegression:\n",
    "    def __init__(self, X, y, lr=1e-3, iterations=1000):\n",
    "        self.X = X\n",
    "        self.y = y\n",
    "        self.feat_cnt = X.shape[1]\n",
    "        self.theta = np.random.randn(1, self.feat_cnt+1)\n",
    "        self.lr = lr\n",
    "        self.iterations = iterations\n",
    "        self.normalize()\n",
    "        \n",
    "    def normalize(self):\n",
    "        min_x = np.min(self.X, axis=1).reshape(self.X.shape[0], 1)\n",
    "        max_x = np.max(self.X, axis=1).reshape(self.X.shape[0], 1)\n",
    "        self.X = (self.X - min_x) / (max_x - min_x)\n",
    "        \n",
    "    def predict(self, inp):\n",
    "        inp = np.hstack((np.ones((inp.shape[0], 1)), inp))\n",
    "        return HelperFunctions.conv_sum(self.theta, inp)\n",
    "    \n",
    "    def normalize_predict(self, inp):\n",
    "        mn = np.min(inp, axis=1).reshape(inp.shape[0], 1)\n",
    "        mx = np.max(inp, axis=1).reshape(inp.shape[0], 1)\n",
    "        inp = (inp-mn) / (mx-mn)\n",
    "        return self.predict(inp)\n",
    "        \n",
    "    def sgd(self):\n",
    "        itr = tqdm(range(self.iterations))\n",
    "        for _ in itr:\n",
    "            for idx, feat in enumerate(self.X):\n",
    "                feat = np.expand_dims(feat, axis=0)\n",
    "                error = self.predict(feat) - self.y[idx]\n",
    "                grad = np.matmul(error,\n",
    "                                np.hstack((np.ones((1, 1)), feat)))\n",
    "                self.theta = self.theta - grad*self.lr\n",
    "            itr.set_description(f'Error: {error}')"
   ]
  },
  {
   "cell_type": "code",
   "execution_count": 6,
   "id": "90ae1b9c",
   "metadata": {},
   "outputs": [],
   "source": [
    "X = machine_df.drop(columns=['PRP', 'vendor name', 'Model Name']).to_numpy()\n",
    "y = machine_df['PRP'].to_numpy()"
   ]
  },
  {
   "cell_type": "markdown",
   "id": "327afcb0",
   "metadata": {},
   "source": [
    "# Problem 1"
   ]
  },
  {
   "cell_type": "code",
   "execution_count": 7,
   "id": "f156316e",
   "metadata": {},
   "outputs": [
    {
     "data": {
      "text/plain": [
       "[[1.0,\n",
       "  -0.335642195508513,\n",
       "  -0.3785606178715616,\n",
       "  -0.32099978976972116,\n",
       "  -0.3010897113958365,\n",
       "  -0.25050229252073214],\n",
       " [-0.335642195508513,\n",
       "  1.0,\n",
       "  0.7581573478037231,\n",
       "  0.5347290904835281,\n",
       "  0.5171892214181076,\n",
       "  0.2669074311252619],\n",
       " [-0.3785606178715616,\n",
       "  0.7581573478037232,\n",
       "  1.0000000000000002,\n",
       "  0.5379898185263052,\n",
       "  0.5605134214806345,\n",
       "  0.5272461816383357],\n",
       " [-0.32099978976972116,\n",
       "  0.5347290904835281,\n",
       "  0.5379898185263051,\n",
       "  1.0000000000000004,\n",
       "  0.5822454590800031,\n",
       "  0.48784576802832064],\n",
       " [-0.3010897113958365,\n",
       "  0.5171892214181076,\n",
       "  0.5605134214806345,\n",
       "  0.5822454590800031,\n",
       "  1.0,\n",
       "  0.5482812070286769],\n",
       " [-0.2505022925207322,\n",
       "  0.2669074311252619,\n",
       "  0.5272461816383357,\n",
       "  0.4878457680283206,\n",
       "  0.5482812070286769,\n",
       "  1.0]]"
      ]
     },
     "execution_count": 7,
     "metadata": {},
     "output_type": "execute_result"
    }
   ],
   "source": [
    "# correlation matrix among feature variables\n",
    "cm = HelperFunctions.correlation_matrix(X)\n",
    "cm"
   ]
  },
  {
   "cell_type": "code",
   "execution_count": 8,
   "id": "2744a81c",
   "metadata": {},
   "outputs": [
    {
     "name": "stdout",
     "output_type": "stream",
     "text": [
      "Correlation with PRP: \n",
      "MYCT: -0.3070994470957124\n",
      "MMIN: 0.7949313405266915\n",
      "MMAX: 0.8630041243651341\n",
      "CACH: 0.6626414266783193\n",
      "CHMIN: 0.6089032834114069\n",
      "CHMAX: 0.605209292812674\n"
     ]
    }
   ],
   "source": [
    "# correlation with dependent variable\n",
    "print(f'Correlation with PRP: ')\n",
    "for i in machine_df.columns:\n",
    "    if i not in ['PRP', 'vendor name', 'Model Name']:\n",
    "        corr = HelperFunctions.correlation(machine_df[i].to_numpy(),\n",
    "                                          machine_df['PRP'].to_numpy())\n",
    "        print(f'{i}: {corr}')"
   ]
  },
  {
   "cell_type": "markdown",
   "id": "09d34321",
   "metadata": {},
   "source": [
    "Considering threshold at 0.65 we pick MMIN, MMAX, CACH as our features"
   ]
  },
  {
   "cell_type": "markdown",
   "id": "a49e06d4",
   "metadata": {},
   "source": [
    "# Problem 2"
   ]
  },
  {
   "cell_type": "code",
   "execution_count": 9,
   "id": "969a91f0",
   "metadata": {},
   "outputs": [],
   "source": [
    "train_df, test_df = train_test_split(machine_df, test_size=0.2, shuffle=True)\n",
    "train_df = train_df.reset_index(drop=True)\n",
    "test_df = test_df.reset_index(drop=True)"
   ]
  },
  {
   "cell_type": "code",
   "execution_count": 10,
   "id": "c604b2fe",
   "metadata": {},
   "outputs": [],
   "source": [
    "# data\n",
    "train_X = train_df.drop(columns=['PRP', \n",
    "                             'vendor name', \n",
    "                             'Model Name', \n",
    "                             'MYCT', \n",
    "                             'CHMIN', \n",
    "                             'CHMAX']).to_numpy()\n",
    "train_y = train_df['PRP'].to_numpy()"
   ]
  },
  {
   "cell_type": "code",
   "execution_count": 11,
   "id": "64671946",
   "metadata": {},
   "outputs": [],
   "source": [
    "mlr = MultipleLinearRegression(train_X, train_y, lr=1e-4, iterations=1000)"
   ]
  },
  {
   "cell_type": "code",
   "execution_count": 12,
   "id": "23bb8191",
   "metadata": {},
   "outputs": [
    {
     "name": "stderr",
     "output_type": "stream",
     "text": [
      "Error: [64.08017039]: 100%|███████████████████████████████████████████████████████████████████████████████████████████████████████████████████████████████████████████████████| 1000/1000 [00:06<00:00, 162.88it/s]\n"
     ]
    }
   ],
   "source": [
    "mlr.sgd()"
   ]
  },
  {
   "cell_type": "markdown",
   "id": "a3d04714",
   "metadata": {},
   "source": [
    "# Problem 3"
   ]
  },
  {
   "cell_type": "code",
   "execution_count": 13,
   "id": "78383d1d",
   "metadata": {},
   "outputs": [],
   "source": [
    "test_X = test_df.drop(columns=['PRP', \n",
    "                             'vendor name', \n",
    "                             'Model Name', \n",
    "                             'MYCT', \n",
    "                             'CHMIN', \n",
    "                             'CHMAX']).to_numpy()\n",
    "test_y = test_df['PRP'].to_numpy()"
   ]
  },
  {
   "cell_type": "code",
   "execution_count": 14,
   "id": "8e38b9b0",
   "metadata": {},
   "outputs": [
    {
     "data": {
      "text/plain": [
       "(42,)"
      ]
     },
     "execution_count": 14,
     "metadata": {},
     "output_type": "execute_result"
    }
   ],
   "source": [
    "preds = mlr.normalize_predict(test_X)\n",
    "preds.shape"
   ]
  },
  {
   "cell_type": "code",
   "execution_count": 15,
   "id": "bf7270f9",
   "metadata": {},
   "outputs": [],
   "source": [
    "def ttest(X,Y):\n",
    "    for i in range(X.shape[1]):\n",
    "        print(stats.ttest_ind(X[:, i], Y))"
   ]
  },
  {
   "cell_type": "code",
   "execution_count": 16,
   "id": "3ad91d25",
   "metadata": {},
   "outputs": [
    {
     "name": "stdout",
     "output_type": "stream",
     "text": [
      "Ttest_indResult(statistic=9.090526852064407, pvalue=9.164735772412934e-18)\n",
      "Ttest_indResult(statistic=12.290909551211156, pvalue=7.15204732357762e-29)\n",
      "Ttest_indResult(statistic=-6.092548194587914, pvalue=3.077211436671297e-09)\n"
     ]
    }
   ],
   "source": [
    "ttest(train_X, train_y)"
   ]
  },
  {
   "cell_type": "markdown",
   "id": "df8c96b8",
   "metadata": {},
   "source": [
    "# Problem 4"
   ]
  },
  {
   "cell_type": "code",
   "execution_count": 17,
   "id": "81d5d4fa",
   "metadata": {},
   "outputs": [],
   "source": [
    "def evaluate_r2(y, y_pred):\n",
    "    y_mean = np.mean(y)\n",
    "\n",
    "    sse = np.sum((y-y_pred)**2)\n",
    "    ssr = np.sum((y_pred-y_mean)**2)\n",
    "\n",
    "    sst = ssr + sse\n",
    "\n",
    "    r2 = ssr/sst\n",
    "    return r2"
   ]
  },
  {
   "cell_type": "code",
   "execution_count": 18,
   "id": "3919af83",
   "metadata": {},
   "outputs": [
    {
     "data": {
      "text/plain": [
       "0.12785593327407194"
      ]
     },
     "execution_count": 18,
     "metadata": {},
     "output_type": "execute_result"
    }
   ],
   "source": [
    "evaluate_r2(test_y, preds)"
   ]
  }
 ],
 "metadata": {
  "kernelspec": {
   "display_name": "Python 3 (ipykernel)",
   "language": "python",
   "name": "python3"
  },
  "language_info": {
   "codemirror_mode": {
    "name": "ipython",
    "version": 3
   },
   "file_extension": ".py",
   "mimetype": "text/x-python",
   "name": "python",
   "nbconvert_exporter": "python",
   "pygments_lexer": "ipython3",
   "version": "3.9.7"
  }
 },
 "nbformat": 4,
 "nbformat_minor": 5
}
