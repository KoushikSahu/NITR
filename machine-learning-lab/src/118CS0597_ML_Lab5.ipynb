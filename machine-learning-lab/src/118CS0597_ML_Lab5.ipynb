{
 "cells": [
  {
   "cell_type": "code",
   "execution_count": 1,
   "id": "16f5c8fe",
   "metadata": {},
   "outputs": [],
   "source": [
    "# imports\n",
    "from pathlib import Path\n",
    "import pandas as pd\n",
    "import numpy as np"
   ]
  },
  {
   "cell_type": "code",
   "execution_count": 2,
   "id": "46ff0741",
   "metadata": {},
   "outputs": [],
   "source": [
    "class Config:\n",
    "    data_path = Path('./machine.csv')"
   ]
  },
  {
   "cell_type": "code",
   "execution_count": 13,
   "id": "37fea2b4",
   "metadata": {},
   "outputs": [],
   "source": [
    "class HelperFunctions:\n",
    "    @staticmethod\n",
    "    def mean(x):\n",
    "        n = x.shape[0]\n",
    "        return x.sum() / n\n",
    "    \n",
    "    @staticmethod\n",
    "    def std(x):\n",
    "        n = x.shape[0]\n",
    "        x_mean = HelperFunctions.mean(x)\n",
    "        return np.sqrt(1/n*(((x-x_mean)**2).sum()))\n",
    "    \n",
    "    @staticmethod\n",
    "    def covariance(x, y):\n",
    "        n = x.shape[0]\n",
    "        xy_mean = np.multiply(x, y).sum() / n\n",
    "        x_mean = HelperFunctions.mean(x)\n",
    "        y_mean = HelperFunctions.mean(y)\n",
    "        return xy_mean - x_mean*y_mean\n",
    "    \n",
    "    @staticmethod\n",
    "    def correlation(x, y):\n",
    "        corr = 0\n",
    "        corr += HelperFunctions.covariance(x, y) \n",
    "        corr /= HelperFunctions.std(x)\n",
    "        corr /= HelperFunctions.std(y)\n",
    "        return corr\n",
    "    \n",
    "    @staticmethod\n",
    "    def correlation_matrix(x):\n",
    "        n = x.shape[1]\n",
    "        cm = [[0 for i in range(n)] for i in range(n)]\n",
    "        for i in range(n):\n",
    "            for j in range(n):\n",
    "                cm[i][j] = HelperFunctions.correlation(x[:, i], x[:, j]) \n",
    "        return cm\n",
    "    \n",
    "    @staticmethod\n",
    "    def conv_sum(x, y):\n",
    "        return (x*y).sum()"
   ]
  },
  {
   "cell_type": "code",
   "execution_count": 4,
   "id": "0ed085c5",
   "metadata": {},
   "outputs": [
    {
     "data": {
      "text/html": [
       "<div>\n",
       "<style scoped>\n",
       "    .dataframe tbody tr th:only-of-type {\n",
       "        vertical-align: middle;\n",
       "    }\n",
       "\n",
       "    .dataframe tbody tr th {\n",
       "        vertical-align: top;\n",
       "    }\n",
       "\n",
       "    .dataframe thead th {\n",
       "        text-align: right;\n",
       "    }\n",
       "</style>\n",
       "<table border=\"1\" class=\"dataframe\">\n",
       "  <thead>\n",
       "    <tr style=\"text-align: right;\">\n",
       "      <th></th>\n",
       "      <th>vendor name</th>\n",
       "      <th>Model Name</th>\n",
       "      <th>MYCT</th>\n",
       "      <th>MMIN</th>\n",
       "      <th>MMAX</th>\n",
       "      <th>CACH</th>\n",
       "      <th>CHMIN</th>\n",
       "      <th>CHMAX</th>\n",
       "      <th>PRP</th>\n",
       "    </tr>\n",
       "  </thead>\n",
       "  <tbody>\n",
       "    <tr>\n",
       "      <th>0</th>\n",
       "      <td>adviser</td>\n",
       "      <td>32/60</td>\n",
       "      <td>125</td>\n",
       "      <td>256</td>\n",
       "      <td>6000</td>\n",
       "      <td>256</td>\n",
       "      <td>16</td>\n",
       "      <td>128</td>\n",
       "      <td>198</td>\n",
       "    </tr>\n",
       "    <tr>\n",
       "      <th>1</th>\n",
       "      <td>amdahl</td>\n",
       "      <td>470v/7</td>\n",
       "      <td>29</td>\n",
       "      <td>8000</td>\n",
       "      <td>32000</td>\n",
       "      <td>32</td>\n",
       "      <td>8</td>\n",
       "      <td>32</td>\n",
       "      <td>269</td>\n",
       "    </tr>\n",
       "    <tr>\n",
       "      <th>2</th>\n",
       "      <td>amdahl</td>\n",
       "      <td>470v/7a</td>\n",
       "      <td>29</td>\n",
       "      <td>8000</td>\n",
       "      <td>32000</td>\n",
       "      <td>32</td>\n",
       "      <td>8</td>\n",
       "      <td>32</td>\n",
       "      <td>220</td>\n",
       "    </tr>\n",
       "    <tr>\n",
       "      <th>3</th>\n",
       "      <td>amdahl</td>\n",
       "      <td>470v/7b</td>\n",
       "      <td>29</td>\n",
       "      <td>8000</td>\n",
       "      <td>32000</td>\n",
       "      <td>32</td>\n",
       "      <td>8</td>\n",
       "      <td>32</td>\n",
       "      <td>172</td>\n",
       "    </tr>\n",
       "    <tr>\n",
       "      <th>4</th>\n",
       "      <td>amdahl</td>\n",
       "      <td>470v/7c</td>\n",
       "      <td>29</td>\n",
       "      <td>8000</td>\n",
       "      <td>16000</td>\n",
       "      <td>32</td>\n",
       "      <td>8</td>\n",
       "      <td>16</td>\n",
       "      <td>132</td>\n",
       "    </tr>\n",
       "  </tbody>\n",
       "</table>\n",
       "</div>"
      ],
      "text/plain": [
       "  vendor name Model Name  MYCT  MMIN   MMAX  CACH  CHMIN  CHMAX  PRP\n",
       "0     adviser      32/60   125   256   6000   256     16    128  198\n",
       "1      amdahl     470v/7    29  8000  32000    32      8     32  269\n",
       "2      amdahl    470v/7a    29  8000  32000    32      8     32  220\n",
       "3      amdahl    470v/7b    29  8000  32000    32      8     32  172\n",
       "4      amdahl    470v/7c    29  8000  16000    32      8     16  132"
      ]
     },
     "execution_count": 4,
     "metadata": {},
     "output_type": "execute_result"
    }
   ],
   "source": [
    "machine_df = pd.read_csv(Config.data_path)\n",
    "machine_df.head()"
   ]
  },
  {
   "cell_type": "code",
   "execution_count": 5,
   "id": "914b2096",
   "metadata": {},
   "outputs": [],
   "source": [
    "class MultipleLinearRegression:\n",
    "    def __init__(self, X, y):\n",
    "        self.X = X\n",
    "        self.y = y\n",
    "        self.feat_cnt = X.shape[1]\n",
    "        self.theta = np.random.normal(0, 1, size=(1, self.feat_cnt+1))\n",
    "        \n",
    "    def predict(self, inp):\n",
    "        inp = np.hstack((np.zeroes((1, 1)), inp))\n",
    "        return HelperFunctions.conv_sum(self.theta, inp)\n",
    "        \n",
    "    def error(self, inp, targ):\n",
    "        pred = self.predict(inp)\n",
    "        return 1/2 * ((self.inp - targ)**2).sum()\n",
    "        \n",
    "    def grad(self):\n",
    "        \n",
    "        \n",
    "    def sgd(self):\n",
    "        "
   ]
  },
  {
   "cell_type": "code",
   "execution_count": 6,
   "id": "90ae1b9c",
   "metadata": {},
   "outputs": [],
   "source": [
    "X = machine_df.drop(columns=['PRP', 'vendor name', 'Model Name']).to_numpy()\n",
    "y = machine_df['PRP'].to_numpy()"
   ]
  },
  {
   "cell_type": "markdown",
   "id": "327afcb0",
   "metadata": {},
   "source": [
    "# Problem 1"
   ]
  },
  {
   "cell_type": "code",
   "execution_count": 8,
   "id": "f156316e",
   "metadata": {},
   "outputs": [
    {
     "data": {
      "text/plain": [
       "[[1.0,\n",
       "  -0.335642195508513,\n",
       "  -0.3785606178715616,\n",
       "  -0.32099978976972116,\n",
       "  -0.3010897113958365,\n",
       "  -0.25050229252073214],\n",
       " [-0.335642195508513,\n",
       "  1.0,\n",
       "  0.7581573478037231,\n",
       "  0.5347290904835281,\n",
       "  0.5171892214181076,\n",
       "  0.2669074311252619],\n",
       " [-0.3785606178715616,\n",
       "  0.7581573478037232,\n",
       "  1.0000000000000002,\n",
       "  0.5379898185263052,\n",
       "  0.5605134214806345,\n",
       "  0.5272461816383357],\n",
       " [-0.32099978976972116,\n",
       "  0.5347290904835281,\n",
       "  0.5379898185263051,\n",
       "  1.0000000000000004,\n",
       "  0.5822454590800031,\n",
       "  0.48784576802832064],\n",
       " [-0.3010897113958365,\n",
       "  0.5171892214181076,\n",
       "  0.5605134214806345,\n",
       "  0.5822454590800031,\n",
       "  1.0,\n",
       "  0.5482812070286769],\n",
       " [-0.2505022925207322,\n",
       "  0.2669074311252619,\n",
       "  0.5272461816383357,\n",
       "  0.4878457680283206,\n",
       "  0.5482812070286769,\n",
       "  1.0]]"
      ]
     },
     "execution_count": 8,
     "metadata": {},
     "output_type": "execute_result"
    }
   ],
   "source": [
    "# correlation matrix among feature variables\n",
    "cm = HelperFunctions.correlation_matrix(X)\n",
    "cm"
   ]
  },
  {
   "cell_type": "code",
   "execution_count": 10,
   "id": "2744a81c",
   "metadata": {},
   "outputs": [
    {
     "name": "stdout",
     "output_type": "stream",
     "text": [
      "Correlation with PRP: \n",
      "MYCT: -0.3070994470957124\n",
      "MMIN: 0.7949313405266915\n",
      "MMAX: 0.8630041243651341\n",
      "CACH: 0.6626414266783193\n",
      "CHMIN: 0.6089032834114069\n",
      "CHMAX: 0.605209292812674\n"
     ]
    }
   ],
   "source": [
    "# correlation with dependent variable\n",
    "print(f'Correlation with PRP: ')\n",
    "for i in machine_df.columns:\n",
    "    if i not in ['PRP', 'vendor name', 'Model Name']:\n",
    "        corr = HelperFunctions.correlation(machine_df[i].to_numpy(),\n",
    "                                          machine_df['PRP'].to_numpy())\n",
    "        print(f'{i}: {corr}')"
   ]
  },
  {
   "cell_type": "markdown",
   "id": "09d34321",
   "metadata": {},
   "source": [
    "Considering threshold at 0.65 we pick MMIN, MMAX, CACH as our features"
   ]
  },
  {
   "cell_type": "markdown",
   "id": "a49e06d4",
   "metadata": {},
   "source": [
    "# Problem 2"
   ]
  },
  {
   "cell_type": "code",
   "execution_count": 11,
   "id": "c604b2fe",
   "metadata": {},
   "outputs": [],
   "source": [
    "# data\n",
    "X = machine_df.drop(columns=['PRP', \n",
    "                             'vendor name', \n",
    "                             'Model Name', \n",
    "                             'MYCT', \n",
    "                             'CHMIN', \n",
    "                             'CHMAX']).to_numpy()\n",
    "y = machine_df['PRP'].to_numpy()"
   ]
  },
  {
   "cell_type": "code",
   "execution_count": null,
   "id": "64671946",
   "metadata": {},
   "outputs": [],
   "source": []
  }
 ],
 "metadata": {
  "kernelspec": {
   "display_name": "Python 3 (ipykernel)",
   "language": "python",
   "name": "python3"
  },
  "language_info": {
   "codemirror_mode": {
    "name": "ipython",
    "version": 3
   },
   "file_extension": ".py",
   "mimetype": "text/x-python",
   "name": "python",
   "nbconvert_exporter": "python",
   "pygments_lexer": "ipython3",
   "version": "3.9.7"
  }
 },
 "nbformat": 4,
 "nbformat_minor": 5
}
